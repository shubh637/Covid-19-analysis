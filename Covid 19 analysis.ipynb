{
 "cells": [
  {
   "cell_type": "code",
   "execution_count": 1,
   "id": "fb82e6ea",
   "metadata": {},
   "outputs": [],
   "source": [
    "#importing all the files\n",
    "import pandas as pd\n",
    "import numpy as np\n",
    "import matplotlib.pyplot as plt\n",
    "import seaborn as sns\n",
    "import plotly.express as px\n",
    "from plotly.subplots import make_subplots\n",
    "from datetime import datetime\n"
   ]
  },
  {
   "cell_type": "code",
   "execution_count": 2,
   "id": "c8227b21",
   "metadata": {},
   "outputs": [],
   "source": [
    "covid_df=pd.read_csv(\"C:\\\\Users\\\\TUSHAR SAIN\\\\Downloads\\\\covid_19_india.csv\")\n"
   ]
  },
  {
   "cell_type": "code",
   "execution_count": 3,
   "id": "4678a727",
   "metadata": {},
   "outputs": [
    {
     "data": {
      "text/html": [
       "<div>\n",
       "<style scoped>\n",
       "    .dataframe tbody tr th:only-of-type {\n",
       "        vertical-align: middle;\n",
       "    }\n",
       "\n",
       "    .dataframe tbody tr th {\n",
       "        vertical-align: top;\n",
       "    }\n",
       "\n",
       "    .dataframe thead th {\n",
       "        text-align: right;\n",
       "    }\n",
       "</style>\n",
       "<table border=\"1\" class=\"dataframe\">\n",
       "  <thead>\n",
       "    <tr style=\"text-align: right;\">\n",
       "      <th></th>\n",
       "      <th>Sno</th>\n",
       "      <th>Date</th>\n",
       "      <th>Time</th>\n",
       "      <th>State/UnionTerritory</th>\n",
       "      <th>ConfirmedIndianNational</th>\n",
       "      <th>ConfirmedForeignNational</th>\n",
       "      <th>Cured</th>\n",
       "      <th>Deaths</th>\n",
       "      <th>Confirmed</th>\n",
       "    </tr>\n",
       "  </thead>\n",
       "  <tbody>\n",
       "    <tr>\n",
       "      <th>0</th>\n",
       "      <td>1</td>\n",
       "      <td>30/01/20</td>\n",
       "      <td>6:00 PM</td>\n",
       "      <td>Kerala</td>\n",
       "      <td>1</td>\n",
       "      <td>0</td>\n",
       "      <td>0</td>\n",
       "      <td>0</td>\n",
       "      <td>1</td>\n",
       "    </tr>\n",
       "    <tr>\n",
       "      <th>1</th>\n",
       "      <td>2</td>\n",
       "      <td>31/01/20</td>\n",
       "      <td>6:00 PM</td>\n",
       "      <td>Kerala</td>\n",
       "      <td>1</td>\n",
       "      <td>0</td>\n",
       "      <td>0</td>\n",
       "      <td>0</td>\n",
       "      <td>1</td>\n",
       "    </tr>\n",
       "    <tr>\n",
       "      <th>2</th>\n",
       "      <td>3</td>\n",
       "      <td>01/02/20</td>\n",
       "      <td>6:00 PM</td>\n",
       "      <td>Kerala</td>\n",
       "      <td>2</td>\n",
       "      <td>0</td>\n",
       "      <td>0</td>\n",
       "      <td>0</td>\n",
       "      <td>2</td>\n",
       "    </tr>\n",
       "    <tr>\n",
       "      <th>3</th>\n",
       "      <td>4</td>\n",
       "      <td>02/02/20</td>\n",
       "      <td>6:00 PM</td>\n",
       "      <td>Kerala</td>\n",
       "      <td>3</td>\n",
       "      <td>0</td>\n",
       "      <td>0</td>\n",
       "      <td>0</td>\n",
       "      <td>3</td>\n",
       "    </tr>\n",
       "    <tr>\n",
       "      <th>4</th>\n",
       "      <td>5</td>\n",
       "      <td>03/02/20</td>\n",
       "      <td>6:00 PM</td>\n",
       "      <td>Kerala</td>\n",
       "      <td>3</td>\n",
       "      <td>0</td>\n",
       "      <td>0</td>\n",
       "      <td>0</td>\n",
       "      <td>3</td>\n",
       "    </tr>\n",
       "  </tbody>\n",
       "</table>\n",
       "</div>"
      ],
      "text/plain": [
       "   Sno      Date     Time State/UnionTerritory ConfirmedIndianNational  \\\n",
       "0    1  30/01/20  6:00 PM               Kerala                       1   \n",
       "1    2  31/01/20  6:00 PM               Kerala                       1   \n",
       "2    3  01/02/20  6:00 PM               Kerala                       2   \n",
       "3    4  02/02/20  6:00 PM               Kerala                       3   \n",
       "4    5  03/02/20  6:00 PM               Kerala                       3   \n",
       "\n",
       "  ConfirmedForeignNational  Cured  Deaths  Confirmed  \n",
       "0                        0      0       0          1  \n",
       "1                        0      0       0          1  \n",
       "2                        0      0       0          2  \n",
       "3                        0      0       0          3  \n",
       "4                        0      0       0          3  "
      ]
     },
     "execution_count": 3,
     "metadata": {},
     "output_type": "execute_result"
    }
   ],
   "source": [
    "covid_df.head(5)"
   ]
  },
  {
   "cell_type": "code",
   "execution_count": 4,
   "id": "f7489991",
   "metadata": {},
   "outputs": [
    {
     "name": "stdout",
     "output_type": "stream",
     "text": [
      "<class 'pandas.core.frame.DataFrame'>\n",
      "RangeIndex: 6386 entries, 0 to 6385\n",
      "Data columns (total 9 columns):\n",
      " #   Column                    Non-Null Count  Dtype \n",
      "---  ------                    --------------  ----- \n",
      " 0   Sno                       6386 non-null   int64 \n",
      " 1   Date                      6386 non-null   object\n",
      " 2   Time                      6386 non-null   object\n",
      " 3   State/UnionTerritory      6386 non-null   object\n",
      " 4   ConfirmedIndianNational   6386 non-null   object\n",
      " 5   ConfirmedForeignNational  6386 non-null   object\n",
      " 6   Cured                     6386 non-null   int64 \n",
      " 7   Deaths                    6386 non-null   int64 \n",
      " 8   Confirmed                 6386 non-null   int64 \n",
      "dtypes: int64(4), object(5)\n",
      "memory usage: 449.1+ KB\n"
     ]
    }
   ],
   "source": [
    "covid_df.info()"
   ]
  },
  {
   "cell_type": "code",
   "execution_count": 5,
   "id": "c8e55930",
   "metadata": {},
   "outputs": [
    {
     "data": {
      "text/html": [
       "<div>\n",
       "<style scoped>\n",
       "    .dataframe tbody tr th:only-of-type {\n",
       "        vertical-align: middle;\n",
       "    }\n",
       "\n",
       "    .dataframe tbody tr th {\n",
       "        vertical-align: top;\n",
       "    }\n",
       "\n",
       "    .dataframe thead th {\n",
       "        text-align: right;\n",
       "    }\n",
       "</style>\n",
       "<table border=\"1\" class=\"dataframe\">\n",
       "  <thead>\n",
       "    <tr style=\"text-align: right;\">\n",
       "      <th></th>\n",
       "      <th>Sno</th>\n",
       "      <th>Cured</th>\n",
       "      <th>Deaths</th>\n",
       "      <th>Confirmed</th>\n",
       "    </tr>\n",
       "  </thead>\n",
       "  <tbody>\n",
       "    <tr>\n",
       "      <th>count</th>\n",
       "      <td>6386.000000</td>\n",
       "      <td>6386.000000</td>\n",
       "      <td>6386.000000</td>\n",
       "      <td>6.386000e+03</td>\n",
       "    </tr>\n",
       "    <tr>\n",
       "      <th>mean</th>\n",
       "      <td>3193.500000</td>\n",
       "      <td>22455.134513</td>\n",
       "      <td>630.925619</td>\n",
       "      <td>3.147602e+04</td>\n",
       "    </tr>\n",
       "    <tr>\n",
       "      <th>std</th>\n",
       "      <td>1843.623741</td>\n",
       "      <td>67643.099970</td>\n",
       "      <td>2339.921952</td>\n",
       "      <td>9.109889e+04</td>\n",
       "    </tr>\n",
       "    <tr>\n",
       "      <th>min</th>\n",
       "      <td>1.000000</td>\n",
       "      <td>0.000000</td>\n",
       "      <td>0.000000</td>\n",
       "      <td>0.000000e+00</td>\n",
       "    </tr>\n",
       "    <tr>\n",
       "      <th>25%</th>\n",
       "      <td>1597.250000</td>\n",
       "      <td>27.000000</td>\n",
       "      <td>0.000000</td>\n",
       "      <td>1.020000e+02</td>\n",
       "    </tr>\n",
       "    <tr>\n",
       "      <th>50%</th>\n",
       "      <td>3193.500000</td>\n",
       "      <td>911.500000</td>\n",
       "      <td>13.000000</td>\n",
       "      <td>1.946000e+03</td>\n",
       "    </tr>\n",
       "    <tr>\n",
       "      <th>75%</th>\n",
       "      <td>4789.750000</td>\n",
       "      <td>9839.250000</td>\n",
       "      <td>253.000000</td>\n",
       "      <td>1.609050e+04</td>\n",
       "    </tr>\n",
       "    <tr>\n",
       "      <th>max</th>\n",
       "      <td>6386.000000</td>\n",
       "      <td>792832.000000</td>\n",
       "      <td>30883.000000</td>\n",
       "      <td>1.121221e+06</td>\n",
       "    </tr>\n",
       "  </tbody>\n",
       "</table>\n",
       "</div>"
      ],
      "text/plain": [
       "               Sno          Cured        Deaths     Confirmed\n",
       "count  6386.000000    6386.000000   6386.000000  6.386000e+03\n",
       "mean   3193.500000   22455.134513    630.925619  3.147602e+04\n",
       "std    1843.623741   67643.099970   2339.921952  9.109889e+04\n",
       "min       1.000000       0.000000      0.000000  0.000000e+00\n",
       "25%    1597.250000      27.000000      0.000000  1.020000e+02\n",
       "50%    3193.500000     911.500000     13.000000  1.946000e+03\n",
       "75%    4789.750000    9839.250000    253.000000  1.609050e+04\n",
       "max    6386.000000  792832.000000  30883.000000  1.121221e+06"
      ]
     },
     "execution_count": 5,
     "metadata": {},
     "output_type": "execute_result"
    }
   ],
   "source": [
    "covid_df.describe()"
   ]
  },
  {
   "cell_type": "code",
   "execution_count": 6,
   "id": "b57b0332",
   "metadata": {},
   "outputs": [
    {
     "data": {
      "text/plain": [
       "Sno                         0\n",
       "Date                        0\n",
       "Time                        0\n",
       "State/UnionTerritory        0\n",
       "ConfirmedIndianNational     0\n",
       "ConfirmedForeignNational    0\n",
       "Cured                       0\n",
       "Deaths                      0\n",
       "Confirmed                   0\n",
       "dtype: int64"
      ]
     },
     "execution_count": 6,
     "metadata": {},
     "output_type": "execute_result"
    }
   ],
   "source": [
    "covid_df.isnull().sum()"
   ]
  },
  {
   "cell_type": "code",
   "execution_count": 7,
   "id": "4c2fab4e",
   "metadata": {},
   "outputs": [],
   "source": [
    "vaccine_df=pd.read_csv(\"C:\\\\Users\\\\TUSHAR SAIN\\\\Downloads\\\\archive (3)\\\\covid_vaccine_statewise.csv\")"
   ]
  },
  {
   "cell_type": "code",
   "execution_count": 8,
   "id": "9d227e61",
   "metadata": {},
   "outputs": [
    {
     "data": {
      "text/html": [
       "<div>\n",
       "<style scoped>\n",
       "    .dataframe tbody tr th:only-of-type {\n",
       "        vertical-align: middle;\n",
       "    }\n",
       "\n",
       "    .dataframe tbody tr th {\n",
       "        vertical-align: top;\n",
       "    }\n",
       "\n",
       "    .dataframe thead th {\n",
       "        text-align: right;\n",
       "    }\n",
       "</style>\n",
       "<table border=\"1\" class=\"dataframe\">\n",
       "  <thead>\n",
       "    <tr style=\"text-align: right;\">\n",
       "      <th></th>\n",
       "      <th>Updated On</th>\n",
       "      <th>State</th>\n",
       "      <th>Total Doses Administered</th>\n",
       "      <th>Sessions</th>\n",
       "      <th>Sites</th>\n",
       "      <th>First Dose Administered</th>\n",
       "      <th>Second Dose Administered</th>\n",
       "      <th>Male (Doses Administered)</th>\n",
       "      <th>Female (Doses Administered)</th>\n",
       "      <th>Transgender (Doses Administered)</th>\n",
       "      <th>...</th>\n",
       "      <th>18-44 Years (Doses Administered)</th>\n",
       "      <th>45-60 Years (Doses Administered)</th>\n",
       "      <th>60+ Years (Doses Administered)</th>\n",
       "      <th>18-44 Years(Individuals Vaccinated)</th>\n",
       "      <th>45-60 Years(Individuals Vaccinated)</th>\n",
       "      <th>60+ Years(Individuals Vaccinated)</th>\n",
       "      <th>Male(Individuals Vaccinated)</th>\n",
       "      <th>Female(Individuals Vaccinated)</th>\n",
       "      <th>Transgender(Individuals Vaccinated)</th>\n",
       "      <th>Total Individuals Vaccinated</th>\n",
       "    </tr>\n",
       "  </thead>\n",
       "  <tbody>\n",
       "    <tr>\n",
       "      <th>0</th>\n",
       "      <td>16/01/2021</td>\n",
       "      <td>India</td>\n",
       "      <td>48276.0</td>\n",
       "      <td>3455.0</td>\n",
       "      <td>2957.0</td>\n",
       "      <td>48276.0</td>\n",
       "      <td>0.0</td>\n",
       "      <td>NaN</td>\n",
       "      <td>NaN</td>\n",
       "      <td>NaN</td>\n",
       "      <td>...</td>\n",
       "      <td>NaN</td>\n",
       "      <td>NaN</td>\n",
       "      <td>NaN</td>\n",
       "      <td>NaN</td>\n",
       "      <td>NaN</td>\n",
       "      <td>NaN</td>\n",
       "      <td>23757.0</td>\n",
       "      <td>24517.0</td>\n",
       "      <td>2.0</td>\n",
       "      <td>48276.0</td>\n",
       "    </tr>\n",
       "    <tr>\n",
       "      <th>1</th>\n",
       "      <td>17/01/2021</td>\n",
       "      <td>India</td>\n",
       "      <td>58604.0</td>\n",
       "      <td>8532.0</td>\n",
       "      <td>4954.0</td>\n",
       "      <td>58604.0</td>\n",
       "      <td>0.0</td>\n",
       "      <td>NaN</td>\n",
       "      <td>NaN</td>\n",
       "      <td>NaN</td>\n",
       "      <td>...</td>\n",
       "      <td>NaN</td>\n",
       "      <td>NaN</td>\n",
       "      <td>NaN</td>\n",
       "      <td>NaN</td>\n",
       "      <td>NaN</td>\n",
       "      <td>NaN</td>\n",
       "      <td>27348.0</td>\n",
       "      <td>31252.0</td>\n",
       "      <td>4.0</td>\n",
       "      <td>58604.0</td>\n",
       "    </tr>\n",
       "    <tr>\n",
       "      <th>2</th>\n",
       "      <td>18/01/2021</td>\n",
       "      <td>India</td>\n",
       "      <td>99449.0</td>\n",
       "      <td>13611.0</td>\n",
       "      <td>6583.0</td>\n",
       "      <td>99449.0</td>\n",
       "      <td>0.0</td>\n",
       "      <td>NaN</td>\n",
       "      <td>NaN</td>\n",
       "      <td>NaN</td>\n",
       "      <td>...</td>\n",
       "      <td>NaN</td>\n",
       "      <td>NaN</td>\n",
       "      <td>NaN</td>\n",
       "      <td>NaN</td>\n",
       "      <td>NaN</td>\n",
       "      <td>NaN</td>\n",
       "      <td>41361.0</td>\n",
       "      <td>58083.0</td>\n",
       "      <td>5.0</td>\n",
       "      <td>99449.0</td>\n",
       "    </tr>\n",
       "    <tr>\n",
       "      <th>3</th>\n",
       "      <td>19/01/2021</td>\n",
       "      <td>India</td>\n",
       "      <td>195525.0</td>\n",
       "      <td>17855.0</td>\n",
       "      <td>7951.0</td>\n",
       "      <td>195525.0</td>\n",
       "      <td>0.0</td>\n",
       "      <td>NaN</td>\n",
       "      <td>NaN</td>\n",
       "      <td>NaN</td>\n",
       "      <td>...</td>\n",
       "      <td>NaN</td>\n",
       "      <td>NaN</td>\n",
       "      <td>NaN</td>\n",
       "      <td>NaN</td>\n",
       "      <td>NaN</td>\n",
       "      <td>NaN</td>\n",
       "      <td>81901.0</td>\n",
       "      <td>113613.0</td>\n",
       "      <td>11.0</td>\n",
       "      <td>195525.0</td>\n",
       "    </tr>\n",
       "    <tr>\n",
       "      <th>4</th>\n",
       "      <td>20/01/2021</td>\n",
       "      <td>India</td>\n",
       "      <td>251280.0</td>\n",
       "      <td>25472.0</td>\n",
       "      <td>10504.0</td>\n",
       "      <td>251280.0</td>\n",
       "      <td>0.0</td>\n",
       "      <td>NaN</td>\n",
       "      <td>NaN</td>\n",
       "      <td>NaN</td>\n",
       "      <td>...</td>\n",
       "      <td>NaN</td>\n",
       "      <td>NaN</td>\n",
       "      <td>NaN</td>\n",
       "      <td>NaN</td>\n",
       "      <td>NaN</td>\n",
       "      <td>NaN</td>\n",
       "      <td>98111.0</td>\n",
       "      <td>153145.0</td>\n",
       "      <td>24.0</td>\n",
       "      <td>251280.0</td>\n",
       "    </tr>\n",
       "  </tbody>\n",
       "</table>\n",
       "<p>5 rows × 24 columns</p>\n",
       "</div>"
      ],
      "text/plain": [
       "   Updated On  State  Total Doses Administered  Sessions   Sites   \\\n",
       "0  16/01/2021  India                   48276.0    3455.0   2957.0   \n",
       "1  17/01/2021  India                   58604.0    8532.0   4954.0   \n",
       "2  18/01/2021  India                   99449.0   13611.0   6583.0   \n",
       "3  19/01/2021  India                  195525.0   17855.0   7951.0   \n",
       "4  20/01/2021  India                  251280.0   25472.0  10504.0   \n",
       "\n",
       "   First Dose Administered  Second Dose Administered  \\\n",
       "0                  48276.0                       0.0   \n",
       "1                  58604.0                       0.0   \n",
       "2                  99449.0                       0.0   \n",
       "3                 195525.0                       0.0   \n",
       "4                 251280.0                       0.0   \n",
       "\n",
       "   Male (Doses Administered)  Female (Doses Administered)  \\\n",
       "0                        NaN                          NaN   \n",
       "1                        NaN                          NaN   \n",
       "2                        NaN                          NaN   \n",
       "3                        NaN                          NaN   \n",
       "4                        NaN                          NaN   \n",
       "\n",
       "   Transgender (Doses Administered)  ...  18-44 Years (Doses Administered)  \\\n",
       "0                               NaN  ...                               NaN   \n",
       "1                               NaN  ...                               NaN   \n",
       "2                               NaN  ...                               NaN   \n",
       "3                               NaN  ...                               NaN   \n",
       "4                               NaN  ...                               NaN   \n",
       "\n",
       "   45-60 Years (Doses Administered)  60+ Years (Doses Administered)  \\\n",
       "0                               NaN                             NaN   \n",
       "1                               NaN                             NaN   \n",
       "2                               NaN                             NaN   \n",
       "3                               NaN                             NaN   \n",
       "4                               NaN                             NaN   \n",
       "\n",
       "   18-44 Years(Individuals Vaccinated)  45-60 Years(Individuals Vaccinated)  \\\n",
       "0                                  NaN                                  NaN   \n",
       "1                                  NaN                                  NaN   \n",
       "2                                  NaN                                  NaN   \n",
       "3                                  NaN                                  NaN   \n",
       "4                                  NaN                                  NaN   \n",
       "\n",
       "   60+ Years(Individuals Vaccinated)  Male(Individuals Vaccinated)  \\\n",
       "0                                NaN                       23757.0   \n",
       "1                                NaN                       27348.0   \n",
       "2                                NaN                       41361.0   \n",
       "3                                NaN                       81901.0   \n",
       "4                                NaN                       98111.0   \n",
       "\n",
       "   Female(Individuals Vaccinated)  Transgender(Individuals Vaccinated)  \\\n",
       "0                         24517.0                                  2.0   \n",
       "1                         31252.0                                  4.0   \n",
       "2                         58083.0                                  5.0   \n",
       "3                        113613.0                                 11.0   \n",
       "4                        153145.0                                 24.0   \n",
       "\n",
       "   Total Individuals Vaccinated  \n",
       "0                       48276.0  \n",
       "1                       58604.0  \n",
       "2                       99449.0  \n",
       "3                      195525.0  \n",
       "4                      251280.0  \n",
       "\n",
       "[5 rows x 24 columns]"
      ]
     },
     "execution_count": 8,
     "metadata": {},
     "output_type": "execute_result"
    }
   ],
   "source": [
    "vaccine_df.head(5)"
   ]
  },
  {
   "cell_type": "code",
   "execution_count": 9,
   "id": "5d68191c",
   "metadata": {},
   "outputs": [
    {
     "name": "stdout",
     "output_type": "stream",
     "text": [
      "<class 'pandas.core.frame.DataFrame'>\n",
      "RangeIndex: 7845 entries, 0 to 7844\n",
      "Data columns (total 24 columns):\n",
      " #   Column                               Non-Null Count  Dtype  \n",
      "---  ------                               --------------  -----  \n",
      " 0   Updated On                           7845 non-null   object \n",
      " 1   State                                7845 non-null   object \n",
      " 2   Total Doses Administered             7621 non-null   float64\n",
      " 3   Sessions                             7621 non-null   float64\n",
      " 4    Sites                               7621 non-null   float64\n",
      " 5   First Dose Administered              7621 non-null   float64\n",
      " 6   Second Dose Administered             7621 non-null   float64\n",
      " 7   Male (Doses Administered)            7461 non-null   float64\n",
      " 8   Female (Doses Administered)          7461 non-null   float64\n",
      " 9   Transgender (Doses Administered)     7461 non-null   float64\n",
      " 10   Covaxin (Doses Administered)        7621 non-null   float64\n",
      " 11  CoviShield (Doses Administered)      7621 non-null   float64\n",
      " 12  Sputnik V (Doses Administered)       2995 non-null   float64\n",
      " 13  AEFI                                 5438 non-null   float64\n",
      " 14  18-44 Years (Doses Administered)     1702 non-null   float64\n",
      " 15  45-60 Years (Doses Administered)     1702 non-null   float64\n",
      " 16  60+ Years (Doses Administered)       1702 non-null   float64\n",
      " 17  18-44 Years(Individuals Vaccinated)  3733 non-null   float64\n",
      " 18  45-60 Years(Individuals Vaccinated)  3734 non-null   float64\n",
      " 19  60+ Years(Individuals Vaccinated)    3734 non-null   float64\n",
      " 20  Male(Individuals Vaccinated)         160 non-null    float64\n",
      " 21  Female(Individuals Vaccinated)       160 non-null    float64\n",
      " 22  Transgender(Individuals Vaccinated)  160 non-null    float64\n",
      " 23  Total Individuals Vaccinated         5919 non-null   float64\n",
      "dtypes: float64(22), object(2)\n",
      "memory usage: 1.4+ MB\n"
     ]
    }
   ],
   "source": [
    "vaccine_df.info()"
   ]
  },
  {
   "cell_type": "code",
   "execution_count": 10,
   "id": "2a609abb",
   "metadata": {},
   "outputs": [],
   "source": [
    "covid_df.drop([\"Sno\"],axis=1,inplace=True)"
   ]
  },
  {
   "cell_type": "code",
   "execution_count": 11,
   "id": "c3894d34",
   "metadata": {},
   "outputs": [
    {
     "data": {
      "text/html": [
       "<div>\n",
       "<style scoped>\n",
       "    .dataframe tbody tr th:only-of-type {\n",
       "        vertical-align: middle;\n",
       "    }\n",
       "\n",
       "    .dataframe tbody tr th {\n",
       "        vertical-align: top;\n",
       "    }\n",
       "\n",
       "    .dataframe thead th {\n",
       "        text-align: right;\n",
       "    }\n",
       "</style>\n",
       "<table border=\"1\" class=\"dataframe\">\n",
       "  <thead>\n",
       "    <tr style=\"text-align: right;\">\n",
       "      <th></th>\n",
       "      <th>Date</th>\n",
       "      <th>Time</th>\n",
       "      <th>State/UnionTerritory</th>\n",
       "      <th>ConfirmedIndianNational</th>\n",
       "      <th>ConfirmedForeignNational</th>\n",
       "      <th>Cured</th>\n",
       "      <th>Deaths</th>\n",
       "      <th>Confirmed</th>\n",
       "    </tr>\n",
       "  </thead>\n",
       "  <tbody>\n",
       "    <tr>\n",
       "      <th>0</th>\n",
       "      <td>30/01/20</td>\n",
       "      <td>6:00 PM</td>\n",
       "      <td>Kerala</td>\n",
       "      <td>1</td>\n",
       "      <td>0</td>\n",
       "      <td>0</td>\n",
       "      <td>0</td>\n",
       "      <td>1</td>\n",
       "    </tr>\n",
       "    <tr>\n",
       "      <th>1</th>\n",
       "      <td>31/01/20</td>\n",
       "      <td>6:00 PM</td>\n",
       "      <td>Kerala</td>\n",
       "      <td>1</td>\n",
       "      <td>0</td>\n",
       "      <td>0</td>\n",
       "      <td>0</td>\n",
       "      <td>1</td>\n",
       "    </tr>\n",
       "    <tr>\n",
       "      <th>2</th>\n",
       "      <td>01/02/20</td>\n",
       "      <td>6:00 PM</td>\n",
       "      <td>Kerala</td>\n",
       "      <td>2</td>\n",
       "      <td>0</td>\n",
       "      <td>0</td>\n",
       "      <td>0</td>\n",
       "      <td>2</td>\n",
       "    </tr>\n",
       "    <tr>\n",
       "      <th>3</th>\n",
       "      <td>02/02/20</td>\n",
       "      <td>6:00 PM</td>\n",
       "      <td>Kerala</td>\n",
       "      <td>3</td>\n",
       "      <td>0</td>\n",
       "      <td>0</td>\n",
       "      <td>0</td>\n",
       "      <td>3</td>\n",
       "    </tr>\n",
       "    <tr>\n",
       "      <th>4</th>\n",
       "      <td>03/02/20</td>\n",
       "      <td>6:00 PM</td>\n",
       "      <td>Kerala</td>\n",
       "      <td>3</td>\n",
       "      <td>0</td>\n",
       "      <td>0</td>\n",
       "      <td>0</td>\n",
       "      <td>3</td>\n",
       "    </tr>\n",
       "  </tbody>\n",
       "</table>\n",
       "</div>"
      ],
      "text/plain": [
       "       Date     Time State/UnionTerritory ConfirmedIndianNational  \\\n",
       "0  30/01/20  6:00 PM               Kerala                       1   \n",
       "1  31/01/20  6:00 PM               Kerala                       1   \n",
       "2  01/02/20  6:00 PM               Kerala                       2   \n",
       "3  02/02/20  6:00 PM               Kerala                       3   \n",
       "4  03/02/20  6:00 PM               Kerala                       3   \n",
       "\n",
       "  ConfirmedForeignNational  Cured  Deaths  Confirmed  \n",
       "0                        0      0       0          1  \n",
       "1                        0      0       0          1  \n",
       "2                        0      0       0          2  \n",
       "3                        0      0       0          3  \n",
       "4                        0      0       0          3  "
      ]
     },
     "execution_count": 11,
     "metadata": {},
     "output_type": "execute_result"
    }
   ],
   "source": [
    "covid_df.dropna()\n",
    "covid_df.head()\n"
   ]
  },
  {
   "cell_type": "code",
   "execution_count": 18,
   "id": "b995495f",
   "metadata": {},
   "outputs": [],
   "source": [
    "covid_df[\"Date\"] = pd.to_datetime(covid_df[\"Date\"], format=\"%d/%m/%y\")"
   ]
  },
  {
   "cell_type": "code",
   "execution_count": 19,
   "id": "a16d5e12",
   "metadata": {},
   "outputs": [
    {
     "name": "stdout",
     "output_type": "stream",
     "text": [
      "<class 'pandas.core.frame.DataFrame'>\n",
      "RangeIndex: 6386 entries, 0 to 6385\n",
      "Data columns (total 8 columns):\n",
      " #   Column                    Non-Null Count  Dtype         \n",
      "---  ------                    --------------  -----         \n",
      " 0   Date                      6386 non-null   datetime64[ns]\n",
      " 1   Time                      6386 non-null   object        \n",
      " 2   State/UnionTerritory      6386 non-null   object        \n",
      " 3   ConfirmedIndianNational   6386 non-null   object        \n",
      " 4   ConfirmedForeignNational  6386 non-null   object        \n",
      " 5   Cured                     6386 non-null   int64         \n",
      " 6   Deaths                    6386 non-null   int64         \n",
      " 7   Confirmed                 6386 non-null   int64         \n",
      "dtypes: datetime64[ns](1), int64(3), object(4)\n",
      "memory usage: 399.3+ KB\n"
     ]
    }
   ],
   "source": [
    "covid_df.info()"
   ]
  },
  {
   "cell_type": "code",
   "execution_count": 20,
   "id": "902b98aa",
   "metadata": {},
   "outputs": [],
   "source": [
    "#Active cases\n",
    "covid_df[\"Active_cases\"]=covid_df[\"Confirmed\"]-covid_df[\"Deaths\"]-covid_df[\"Cured\"]"
   ]
  },
  {
   "cell_type": "code",
   "execution_count": 21,
   "id": "5188f61e",
   "metadata": {},
   "outputs": [
    {
     "data": {
      "text/html": [
       "<div>\n",
       "<style scoped>\n",
       "    .dataframe tbody tr th:only-of-type {\n",
       "        vertical-align: middle;\n",
       "    }\n",
       "\n",
       "    .dataframe tbody tr th {\n",
       "        vertical-align: top;\n",
       "    }\n",
       "\n",
       "    .dataframe thead th {\n",
       "        text-align: right;\n",
       "    }\n",
       "</style>\n",
       "<table border=\"1\" class=\"dataframe\">\n",
       "  <thead>\n",
       "    <tr style=\"text-align: right;\">\n",
       "      <th></th>\n",
       "      <th>Date</th>\n",
       "      <th>Time</th>\n",
       "      <th>State/UnionTerritory</th>\n",
       "      <th>ConfirmedIndianNational</th>\n",
       "      <th>ConfirmedForeignNational</th>\n",
       "      <th>Cured</th>\n",
       "      <th>Deaths</th>\n",
       "      <th>Confirmed</th>\n",
       "      <th>Active_cases</th>\n",
       "    </tr>\n",
       "  </thead>\n",
       "  <tbody>\n",
       "    <tr>\n",
       "      <th>6381</th>\n",
       "      <td>2020-09-17</td>\n",
       "      <td>8:00 AM</td>\n",
       "      <td>Telengana</td>\n",
       "      <td>-</td>\n",
       "      <td>-</td>\n",
       "      <td>133555</td>\n",
       "      <td>1005</td>\n",
       "      <td>165003</td>\n",
       "      <td>30443</td>\n",
       "    </tr>\n",
       "    <tr>\n",
       "      <th>6382</th>\n",
       "      <td>2020-09-17</td>\n",
       "      <td>8:00 AM</td>\n",
       "      <td>Tripura</td>\n",
       "      <td>-</td>\n",
       "      <td>-</td>\n",
       "      <td>12956</td>\n",
       "      <td>222</td>\n",
       "      <td>20676</td>\n",
       "      <td>7498</td>\n",
       "    </tr>\n",
       "    <tr>\n",
       "      <th>6383</th>\n",
       "      <td>2020-09-17</td>\n",
       "      <td>8:00 AM</td>\n",
       "      <td>Uttarakhand</td>\n",
       "      <td>-</td>\n",
       "      <td>-</td>\n",
       "      <td>24432</td>\n",
       "      <td>447</td>\n",
       "      <td>35947</td>\n",
       "      <td>11068</td>\n",
       "    </tr>\n",
       "    <tr>\n",
       "      <th>6384</th>\n",
       "      <td>2020-09-17</td>\n",
       "      <td>8:00 AM</td>\n",
       "      <td>Uttar Pradesh</td>\n",
       "      <td>-</td>\n",
       "      <td>-</td>\n",
       "      <td>258573</td>\n",
       "      <td>4690</td>\n",
       "      <td>330265</td>\n",
       "      <td>67002</td>\n",
       "    </tr>\n",
       "    <tr>\n",
       "      <th>6385</th>\n",
       "      <td>2020-09-17</td>\n",
       "      <td>8:00 AM</td>\n",
       "      <td>West Bengal</td>\n",
       "      <td>-</td>\n",
       "      <td>-</td>\n",
       "      <td>184113</td>\n",
       "      <td>4123</td>\n",
       "      <td>212383</td>\n",
       "      <td>24147</td>\n",
       "    </tr>\n",
       "  </tbody>\n",
       "</table>\n",
       "</div>"
      ],
      "text/plain": [
       "           Date     Time State/UnionTerritory ConfirmedIndianNational  \\\n",
       "6381 2020-09-17  8:00 AM            Telengana                       -   \n",
       "6382 2020-09-17  8:00 AM              Tripura                       -   \n",
       "6383 2020-09-17  8:00 AM          Uttarakhand                       -   \n",
       "6384 2020-09-17  8:00 AM        Uttar Pradesh                       -   \n",
       "6385 2020-09-17  8:00 AM          West Bengal                       -   \n",
       "\n",
       "     ConfirmedForeignNational   Cured  Deaths  Confirmed  Active_cases  \n",
       "6381                        -  133555    1005     165003         30443  \n",
       "6382                        -   12956     222      20676          7498  \n",
       "6383                        -   24432     447      35947         11068  \n",
       "6384                        -  258573    4690     330265         67002  \n",
       "6385                        -  184113    4123     212383         24147  "
      ]
     },
     "execution_count": 21,
     "metadata": {},
     "output_type": "execute_result"
    }
   ],
   "source": [
    "covid_df.tail()"
   ]
  },
  {
   "cell_type": "code",
   "execution_count": 22,
   "id": "92446a76",
   "metadata": {},
   "outputs": [],
   "source": [
    "statewise=pd.pivot_table(covid_df,values=[\"Confirmed\",\"Deaths\",\"Cured\",\"Active_cases\"],index=\"State/UnionTerritory\",aggfunc=max)"
   ]
  },
  {
   "cell_type": "code",
   "execution_count": 23,
   "id": "aa147fbe",
   "metadata": {},
   "outputs": [
    {
     "data": {
      "text/html": [
       "<div>\n",
       "<style scoped>\n",
       "    .dataframe tbody tr th:only-of-type {\n",
       "        vertical-align: middle;\n",
       "    }\n",
       "\n",
       "    .dataframe tbody tr th {\n",
       "        vertical-align: top;\n",
       "    }\n",
       "\n",
       "    .dataframe thead th {\n",
       "        text-align: right;\n",
       "    }\n",
       "</style>\n",
       "<table border=\"1\" class=\"dataframe\">\n",
       "  <thead>\n",
       "    <tr style=\"text-align: right;\">\n",
       "      <th></th>\n",
       "      <th>Active_cases</th>\n",
       "      <th>Confirmed</th>\n",
       "      <th>Cured</th>\n",
       "      <th>Deaths</th>\n",
       "    </tr>\n",
       "    <tr>\n",
       "      <th>State/UnionTerritory</th>\n",
       "      <th></th>\n",
       "      <th></th>\n",
       "      <th></th>\n",
       "      <th></th>\n",
       "    </tr>\n",
       "  </thead>\n",
       "  <tbody>\n",
       "    <tr>\n",
       "      <th>Andaman and Nicobar Islands</th>\n",
       "      <td>1154</td>\n",
       "      <td>3593</td>\n",
       "      <td>3345</td>\n",
       "      <td>52</td>\n",
       "    </tr>\n",
       "    <tr>\n",
       "      <th>Andhra Pradesh</th>\n",
       "      <td>103521</td>\n",
       "      <td>592760</td>\n",
       "      <td>497376</td>\n",
       "      <td>5105</td>\n",
       "    </tr>\n",
       "    <tr>\n",
       "      <th>Arunachal Pradesh</th>\n",
       "      <td>1892</td>\n",
       "      <td>6692</td>\n",
       "      <td>4787</td>\n",
       "      <td>13</td>\n",
       "    </tr>\n",
       "    <tr>\n",
       "      <th>Assam</th>\n",
       "      <td>29690</td>\n",
       "      <td>148969</td>\n",
       "      <td>119367</td>\n",
       "      <td>511</td>\n",
       "    </tr>\n",
       "    <tr>\n",
       "      <th>Bihar</th>\n",
       "      <td>32636</td>\n",
       "      <td>162463</td>\n",
       "      <td>148656</td>\n",
       "      <td>848</td>\n",
       "    </tr>\n",
       "  </tbody>\n",
       "</table>\n",
       "</div>"
      ],
      "text/plain": [
       "                             Active_cases  Confirmed   Cured  Deaths\n",
       "State/UnionTerritory                                                \n",
       "Andaman and Nicobar Islands          1154       3593    3345      52\n",
       "Andhra Pradesh                     103521     592760  497376    5105\n",
       "Arunachal Pradesh                    1892       6692    4787      13\n",
       "Assam                               29690     148969  119367     511\n",
       "Bihar                               32636     162463  148656     848"
      ]
     },
     "execution_count": 23,
     "metadata": {},
     "output_type": "execute_result"
    }
   ],
   "source": [
    "statewise.head()"
   ]
  },
  {
   "cell_type": "code",
   "execution_count": 24,
   "id": "dfc3f8fd",
   "metadata": {},
   "outputs": [],
   "source": [
    "statewise[\"Recovery Rate\"]=statewise[\"Cured\"]*100/statewise[\"Confirmed\"]"
   ]
  },
  {
   "cell_type": "code",
   "execution_count": 25,
   "id": "3b5ae750",
   "metadata": {},
   "outputs": [],
   "source": [
    "statewise[\"Mortality Rate\"]=statewise[\"Deaths\"]*100/statewise[\"Confirmed\"]"
   ]
  },
  {
   "cell_type": "code",
   "execution_count": 26,
   "id": "9891c87b",
   "metadata": {},
   "outputs": [],
   "source": [
    "statewise=statewise.sort_values(by=\"Confirmed\",ascending=False)"
   ]
  },
  {
   "cell_type": "code",
   "execution_count": 27,
   "id": "28c8dfcc",
   "metadata": {},
   "outputs": [
    {
     "data": {
      "text/html": [
       "<div>\n",
       "<style scoped>\n",
       "    .dataframe tbody tr th:only-of-type {\n",
       "        vertical-align: middle;\n",
       "    }\n",
       "\n",
       "    .dataframe tbody tr th {\n",
       "        vertical-align: top;\n",
       "    }\n",
       "\n",
       "    .dataframe thead th {\n",
       "        text-align: right;\n",
       "    }\n",
       "</style>\n",
       "<table border=\"1\" class=\"dataframe\">\n",
       "  <thead>\n",
       "    <tr style=\"text-align: right;\">\n",
       "      <th></th>\n",
       "      <th>Active_cases</th>\n",
       "      <th>Confirmed</th>\n",
       "      <th>Cured</th>\n",
       "      <th>Deaths</th>\n",
       "      <th>Recovery Rate</th>\n",
       "      <th>Mortality Rate</th>\n",
       "    </tr>\n",
       "    <tr>\n",
       "      <th>State/UnionTerritory</th>\n",
       "      <th></th>\n",
       "      <th></th>\n",
       "      <th></th>\n",
       "      <th></th>\n",
       "      <th></th>\n",
       "      <th></th>\n",
       "    </tr>\n",
       "  </thead>\n",
       "  <tbody>\n",
       "    <tr>\n",
       "      <th>Maharashtra</th>\n",
       "      <td>297506</td>\n",
       "      <td>1121221</td>\n",
       "      <td>792832</td>\n",
       "      <td>30883</td>\n",
       "      <td>70.711483</td>\n",
       "      <td>2.754408</td>\n",
       "    </tr>\n",
       "    <tr>\n",
       "      <th>Andhra Pradesh</th>\n",
       "      <td>103521</td>\n",
       "      <td>592760</td>\n",
       "      <td>497376</td>\n",
       "      <td>5105</td>\n",
       "      <td>83.908496</td>\n",
       "      <td>0.861225</td>\n",
       "    </tr>\n",
       "    <tr>\n",
       "      <th>Tamil Nadu</th>\n",
       "      <td>57968</td>\n",
       "      <td>519860</td>\n",
       "      <td>464668</td>\n",
       "      <td>8559</td>\n",
       "      <td>89.383296</td>\n",
       "      <td>1.646405</td>\n",
       "    </tr>\n",
       "    <tr>\n",
       "      <th>Karnataka</th>\n",
       "      <td>101645</td>\n",
       "      <td>484990</td>\n",
       "      <td>375809</td>\n",
       "      <td>7536</td>\n",
       "      <td>77.487989</td>\n",
       "      <td>1.553846</td>\n",
       "    </tr>\n",
       "    <tr>\n",
       "      <th>Uttar Pradesh</th>\n",
       "      <td>68122</td>\n",
       "      <td>330265</td>\n",
       "      <td>258573</td>\n",
       "      <td>4690</td>\n",
       "      <td>78.292583</td>\n",
       "      <td>1.420072</td>\n",
       "    </tr>\n",
       "  </tbody>\n",
       "</table>\n",
       "</div>"
      ],
      "text/plain": [
       "                      Active_cases  Confirmed   Cured  Deaths  Recovery Rate  \\\n",
       "State/UnionTerritory                                                           \n",
       "Maharashtra                 297506    1121221  792832   30883      70.711483   \n",
       "Andhra Pradesh              103521     592760  497376    5105      83.908496   \n",
       "Tamil Nadu                   57968     519860  464668    8559      89.383296   \n",
       "Karnataka                   101645     484990  375809    7536      77.487989   \n",
       "Uttar Pradesh                68122     330265  258573    4690      78.292583   \n",
       "\n",
       "                      Mortality Rate  \n",
       "State/UnionTerritory                  \n",
       "Maharashtra                 2.754408  \n",
       "Andhra Pradesh              0.861225  \n",
       "Tamil Nadu                  1.646405  \n",
       "Karnataka                   1.553846  \n",
       "Uttar Pradesh               1.420072  "
      ]
     },
     "execution_count": 27,
     "metadata": {},
     "output_type": "execute_result"
    }
   ],
   "source": [
    "statewise.head()"
   ]
  },
  {
   "cell_type": "code",
   "execution_count": 28,
   "id": "c1a24c17",
   "metadata": {},
   "outputs": [
    {
     "data": {
      "text/plain": [
       "<Axes: xlabel='State/UnionTerritory', ylabel='Confirmed'>"
      ]
     },
     "execution_count": 28,
     "metadata": {},
     "output_type": "execute_result"
    },
    {
     "data": {
      "image/png": "[encoded data removed]",
      "text/plain": [
       "<Figure size 7000x1500 with 1 Axes>"
      ]
     },
     "metadata": {},
     "output_type": "display_data"
    }
   ],
   "source": [
    "sns.set(rc={\"figure.figsize\":(70,15)})\n",
    "\n",
    "sns.barplot(x=statewise.index,y=statewise[\"Confirmed\"])"
   ]
  },
  {
   "cell_type": "code",
   "execution_count": 29,
   "id": "d68ae086",
   "metadata": {},
   "outputs": [
    {
     "data": {
      "text/html": [
       "<style type=\"text/css\">\n",
       "#T_e92d7_row0_col0, #T_e92d7_row0_col1, #T_e92d7_row0_col2, #T_e92d7_row0_col3, #T_e92d7_row16_col5, #T_e92d7_row34_col4 {\n",
       "  background-color: #ffffff;\n",
       "  color: #000000;\n",
       "}\n",
       "#T_e92d7_row0_col4 {\n",
       "  background-color: #c5b8ef;\n",
       "  color: #000000;\n",
       "}\n",
       "#T_e92d7_row0_col5 {\n",
       "  background-color: #def4ef;\n",
       "  color: #000000;\n",
       "}\n",
       "#T_e92d7_row1_col0 {\n",
       "  background-color: #337335;\n",
       "  color: #f1f1f1;\n",
       "}\n",
       "#T_e92d7_row1_col1 {\n",
       "  background-color: #b3795b;\n",
       "  color: #f1f1f1;\n",
       "}\n",
       "#T_e92d7_row1_col2 {\n",
       "  background-color: #d484a9;\n",
       "  color: #f1f1f1;\n",
       "}\n",
       "#T_e92d7_row1_col3 {\n",
       "  background-color: #192d48;\n",
       "  color: #f1f1f1;\n",
       "}\n",
       "#T_e92d7_row1_col4 {\n",
       "  background-color: #d3eeef;\n",
       "  color: #000000;\n",
       "}\n",
       "#T_e92d7_row1_col5, #T_e92d7_row22_col5 {\n",
       "  background-color: #1c6344;\n",
       "  color: #f1f1f1;\n",
       "}\n",
       "#T_e92d7_row2_col0, #T_e92d7_row30_col5 {\n",
       "  background-color: #16394d;\n",
       "  color: #f1f1f1;\n",
       "}\n",
       "#T_e92d7_row2_col1 {\n",
       "  background-color: #847a38;\n",
       "  color: #f1f1f1;\n",
       "}\n",
       "#T_e92d7_row2_col2 {\n",
       "  background-color: #cd7d89;\n",
       "  color: #f1f1f1;\n",
       "}\n",
       "#T_e92d7_row2_col3 {\n",
       "  background-color: #195d48;\n",
       "  color: #f1f1f1;\n",
       "}\n",
       "#T_e92d7_row2_col4 {\n",
       "  background-color: #edfaf4;\n",
       "  color: #000000;\n",
       "}\n",
       "#T_e92d7_row2_col5 {\n",
       "  background-color: #bf796d;\n",
       "  color: #f1f1f1;\n",
       "}\n",
       "#T_e92d7_row3_col0 {\n",
       "  background-color: #2f7137;\n",
       "  color: #f1f1f1;\n",
       "}\n",
       "#T_e92d7_row3_col1 {\n",
       "  background-color: #6c7b31;\n",
       "  color: #f1f1f1;\n",
       "}\n",
       "#T_e92d7_row3_col2 {\n",
       "  background-color: #8d7a3d;\n",
       "  color: #f1f1f1;\n",
       "}\n",
       "#T_e92d7_row3_col3, #T_e92d7_row5_col2 {\n",
       "  background-color: #15504d;\n",
       "  color: #f1f1f1;\n",
       "}\n",
       "#T_e92d7_row3_col4, #T_e92d7_row18_col4, #T_e92d7_row37_col4 {\n",
       "  background-color: #c3d9f3;\n",
       "  color: #000000;\n",
       "}\n",
       "#T_e92d7_row3_col5, #T_e92d7_row17_col4 {\n",
       "  background-color: #ae7956;\n",
       "  color: #f1f1f1;\n",
       "}\n",
       "#T_e92d7_row4_col0 {\n",
       "  background-color: #15494e;\n",
       "  color: #f1f1f1;\n",
       "}\n",
       "#T_e92d7_row4_col1, #T_e92d7_row18_col5 {\n",
       "  background-color: #1d6443;\n",
       "  color: #f1f1f1;\n",
       "}\n",
       "#T_e92d7_row4_col2 {\n",
       "  background-color: #286d3b;\n",
       "  color: #f1f1f1;\n",
       "}\n",
       "#T_e92d7_row4_col3, #T_e92d7_row10_col2 {\n",
       "  background-color: #1a2744;\n",
       "  color: #f1f1f1;\n",
       "}\n",
       "#T_e92d7_row4_col4, #T_e92d7_row24_col4, #T_e92d7_row30_col4 {\n",
       "  background-color: #c4dcf2;\n",
       "  color: #000000;\n",
       "}\n",
       "#T_e92d7_row4_col5 {\n",
       "  background-color: #907a3e;\n",
       "  color: #f1f1f1;\n",
       "}\n",
       "#T_e92d7_row5_col0, #T_e92d7_row11_col1, #T_e92d7_row12_col1, #T_e92d7_row12_col3 {\n",
       "  background-color: #1a1631;\n",
       "  color: #f1f1f1;\n",
       "}\n",
       "#T_e92d7_row5_col1, #T_e92d7_row7_col5 {\n",
       "  background-color: #163f4e;\n",
       "  color: #f1f1f1;\n",
       "}\n",
       "#T_e92d7_row5_col3 {\n",
       "  background-color: #192a46;\n",
       "  color: #f1f1f1;\n",
       "}\n",
       "#T_e92d7_row5_col4 {\n",
       "  background-color: #d6f0ef;\n",
       "  color: #000000;\n",
       "}\n",
       "#T_e92d7_row5_col5 {\n",
       "  background-color: #cf9fdd;\n",
       "  color: #000000;\n",
       "}\n",
       "#T_e92d7_row6_col0, #T_e92d7_row13_col1, #T_e92d7_row32_col5 {\n",
       "  background-color: #19132d;\n",
       "  color: #f1f1f1;\n",
       "}\n",
       "#T_e92d7_row6_col1, #T_e92d7_row9_col2 {\n",
       "  background-color: #17374d;\n",
       "  color: #f1f1f1;\n",
       "}\n",
       "#T_e92d7_row6_col2, #T_e92d7_row33_col5 {\n",
       "  background-color: #154b4e;\n",
       "  color: #f1f1f1;\n",
       "}\n",
       "#T_e92d7_row6_col3, #T_e92d7_row8_col5, #T_e92d7_row10_col1 {\n",
       "  background-color: #1a213e;\n",
       "  color: #f1f1f1;\n",
       "}\n",
       "#T_e92d7_row6_col4, #T_e92d7_row12_col5 {\n",
       "  background-color: #e0f5f0;\n",
       "  color: #000000;\n",
       "}\n",
       "#T_e92d7_row6_col5, #T_e92d7_row27_col4 {\n",
       "  background-color: #d48cbe;\n",
       "  color: #f1f1f1;\n",
       "}\n",
       "#T_e92d7_row7_col0, #T_e92d7_row9_col0, #T_e92d7_row11_col0, #T_e92d7_row13_col2 {\n",
       "  background-color: #1a1835;\n",
       "  color: #f1f1f1;\n",
       "}\n",
       "#T_e92d7_row7_col1, #T_e92d7_row8_col1, #T_e92d7_row9_col1 {\n",
       "  background-color: #1a2543;\n",
       "  color: #f1f1f1;\n",
       "}\n",
       "#T_e92d7_row7_col2 {\n",
       "  background-color: #182f49;\n",
       "  color: #f1f1f1;\n",
       "}\n",
       "#T_e92d7_row7_col3, #T_e92d7_row14_col3, #T_e92d7_row23_col1 {\n",
       "  background-color: #0c050e;\n",
       "  color: #f1f1f1;\n",
       "}\n",
       "#T_e92d7_row7_col4 {\n",
       "  background-color: #c9e5f0;\n",
       "  color: #000000;\n",
       "}\n",
       "#T_e92d7_row8_col0, #T_e92d7_row11_col2 {\n",
       "  background-color: #1a1733;\n",
       "  color: #f1f1f1;\n",
       "}\n",
       "#T_e92d7_row8_col2 {\n",
       "  background-color: #192c47;\n",
       "  color: #f1f1f1;\n",
       "}\n",
       "#T_e92d7_row8_col3, #T_e92d7_row17_col3, #T_e92d7_row24_col1, #T_e92d7_row25_col2 {\n",
       "  background-color: #080308;\n",
       "  color: #f1f1f1;\n",
       "}\n",
       "#T_e92d7_row8_col4 {\n",
       "  background-color: #c6e1f1;\n",
       "  color: #000000;\n",
       "}\n",
       "#T_e92d7_row9_col3, #T_e92d7_row19_col3, #T_e92d7_row23_col2, #T_e92d7_row28_col0 {\n",
       "  background-color: #0b040c;\n",
       "  color: #f1f1f1;\n",
       "}\n",
       "#T_e92d7_row9_col4, #T_e92d7_row36_col4 {\n",
       "  background-color: #f8fdfa;\n",
       "  color: #000000;\n",
       "}\n",
       "#T_e92d7_row9_col5 {\n",
       "  background-color: #18314a;\n",
       "  color: #f1f1f1;\n",
       "}\n",
       "#T_e92d7_row10_col0, #T_e92d7_row14_col2 {\n",
       "  background-color: #1a142f;\n",
       "  color: #f1f1f1;\n",
       "}\n",
       "#T_e92d7_row10_col3, #T_e92d7_row18_col3, #T_e92d7_row24_col0, #T_e92d7_row25_col0, #T_e92d7_row25_col1, #T_e92d7_row26_col1, #T_e92d7_row26_col2 {\n",
       "  background-color: #070206;\n",
       "  color: #f1f1f1;\n",
       "}\n",
       "#T_e92d7_row10_col4 {\n",
       "  background-color: #c7e3f1;\n",
       "  color: #000000;\n",
       "}\n",
       "#T_e92d7_row10_col5 {\n",
       "  background-color: #1b1a36;\n",
       "  color: #f1f1f1;\n",
       "}\n",
       "#T_e92d7_row11_col3, #T_e92d7_row20_col3, #T_e92d7_row21_col3, #T_e92d7_row22_col3, #T_e92d7_row23_col3, #T_e92d7_row25_col3, #T_e92d7_row27_col0 {\n",
       "  background-color: #050205;\n",
       "  color: #f1f1f1;\n",
       "}\n",
       "#T_e92d7_row11_col4, #T_e92d7_row35_col4 {\n",
       "  background-color: #c4bdf1;\n",
       "  color: #000000;\n",
       "}\n",
       "#T_e92d7_row11_col5 {\n",
       "  background-color: #1a2240;\n",
       "  color: #f1f1f1;\n",
       "}\n",
       "#T_e92d7_row12_col0, #T_e92d7_row13_col0 {\n",
       "  background-color: #130919;\n",
       "  color: #f1f1f1;\n",
       "}\n",
       "#T_e92d7_row12_col2 {\n",
       "  background-color: #1b1c3a;\n",
       "  color: #f1f1f1;\n",
       "}\n",
       "#T_e92d7_row12_col4 {\n",
       "  background-color: #d1edef;\n",
       "  color: #000000;\n",
       "}\n",
       "#T_e92d7_row13_col3, #T_e92d7_row22_col0 {\n",
       "  background-color: #0f0611;\n",
       "  color: #f1f1f1;\n",
       "}\n",
       "#T_e92d7_row13_col4 {\n",
       "  background-color: #d0ecef;\n",
       "  color: #000000;\n",
       "}\n",
       "#T_e92d7_row13_col5 {\n",
       "  background-color: #54792f;\n",
       "  color: #f1f1f1;\n",
       "}\n",
       "#T_e92d7_row14_col0, #T_e92d7_row16_col0 {\n",
       "  background-color: #160d21;\n",
       "  color: #f1f1f1;\n",
       "}\n",
       "#T_e92d7_row14_col1, #T_e92d7_row15_col2 {\n",
       "  background-color: #19122b;\n",
       "  color: #f1f1f1;\n",
       "}\n",
       "#T_e92d7_row14_col4 {\n",
       "  background-color: #c3daf2;\n",
       "  color: #000000;\n",
       "}\n",
       "#T_e92d7_row14_col5 {\n",
       "  background-color: #317236;\n",
       "  color: #f1f1f1;\n",
       "}\n",
       "#T_e92d7_row15_col0, #T_e92d7_row16_col1 {\n",
       "  background-color: #170e23;\n",
       "  color: #f1f1f1;\n",
       "}\n",
       "#T_e92d7_row15_col1, #T_e92d7_row16_col3, #T_e92d7_row40_col4 {\n",
       "  background-color: #181027;\n",
       "  color: #f1f1f1;\n",
       "}\n",
       "#T_e92d7_row15_col3, #T_e92d7_row18_col1 {\n",
       "  background-color: #140a1b;\n",
       "  color: #f1f1f1;\n",
       "}\n",
       "#T_e92d7_row15_col4 {\n",
       "  background-color: #c1ccf3;\n",
       "  color: #000000;\n",
       "}\n",
       "#T_e92d7_row15_col5 {\n",
       "  background-color: #d48abb;\n",
       "  color: #f1f1f1;\n",
       "}\n",
       "#T_e92d7_row16_col2 {\n",
       "  background-color: #180f25;\n",
       "  color: #f1f1f1;\n",
       "}\n",
       "#T_e92d7_row16_col4 {\n",
       "  background-color: #c2c3f2;\n",
       "  color: #000000;\n",
       "}\n",
       "#T_e92d7_row17_col0 {\n",
       "  background-color: #1b1e3b;\n",
       "  color: #f1f1f1;\n",
       "}\n",
       "#T_e92d7_row17_col1, #T_e92d7_row18_col2, #T_e92d7_row19_col0, #T_e92d7_row31_col5 {\n",
       "  background-color: #150b1d;\n",
       "  color: #f1f1f1;\n",
       "}\n",
       "#T_e92d7_row17_col2, #T_e92d7_row20_col0, #T_e92d7_row21_col0, #T_e92d7_row22_col1 {\n",
       "  background-color: #100713;\n",
       "  color: #f1f1f1;\n",
       "}\n",
       "#T_e92d7_row17_col5 {\n",
       "  background-color: #195e47;\n",
       "  color: #f1f1f1;\n",
       "}\n",
       "#T_e92d7_row18_col0, #T_e92d7_row19_col1, #T_e92d7_row20_col1, #T_e92d7_row20_col2, #T_e92d7_row21_col2, #T_e92d7_row22_col2 {\n",
       "  background-color: #120817;\n",
       "  color: #f1f1f1;\n",
       "}\n",
       "#T_e92d7_row19_col2, #T_e92d7_row21_col1 {\n",
       "  background-color: #110815;\n",
       "  color: #f1f1f1;\n",
       "}\n",
       "#T_e92d7_row19_col4 {\n",
       "  background-color: #d09cd9;\n",
       "  color: #000000;\n",
       "}\n",
       "#T_e92d7_row19_col5 {\n",
       "  background-color: #b77961;\n",
       "  color: #f1f1f1;\n",
       "}\n",
       "#T_e92d7_row20_col4 {\n",
       "  background-color: #c1cdf3;\n",
       "  color: #000000;\n",
       "}\n",
       "#T_e92d7_row20_col5, #T_e92d7_row27_col5 {\n",
       "  background-color: #1a6046;\n",
       "  color: #f1f1f1;\n",
       "}\n",
       "#T_e92d7_row21_col4 {\n",
       "  background-color: #c2d4f3;\n",
       "  color: #000000;\n",
       "}\n",
       "#T_e92d7_row21_col5, #T_e92d7_row37_col5 {\n",
       "  background-color: #1b6145;\n",
       "  color: #f1f1f1;\n",
       "}\n",
       "#T_e92d7_row22_col4 {\n",
       "  background-color: #c2d6f3;\n",
       "  color: #000000;\n",
       "}\n",
       "#T_e92d7_row23_col0 {\n",
       "  background-color: #0e050f;\n",
       "  color: #f1f1f1;\n",
       "}\n",
       "#T_e92d7_row23_col4 {\n",
       "  background-color: #caa9e7;\n",
       "  color: #000000;\n",
       "}\n",
       "#T_e92d7_row23_col5 {\n",
       "  background-color: #637a2f;\n",
       "  color: #f1f1f1;\n",
       "}\n",
       "#T_e92d7_row24_col2, #T_e92d7_row26_col0, #T_e92d7_row36_col5 {\n",
       "  background-color: #0a030a;\n",
       "  color: #f1f1f1;\n",
       "}\n",
       "#T_e92d7_row24_col3, #T_e92d7_row27_col1, #T_e92d7_row27_col2, #T_e92d7_row28_col1, #T_e92d7_row29_col0, #T_e92d7_row29_col1, #T_e92d7_row30_col2 {\n",
       "  background-color: #030103;\n",
       "  color: #f1f1f1;\n",
       "}\n",
       "#T_e92d7_row24_col5 {\n",
       "  background-color: #5d7a2f;\n",
       "  color: #f1f1f1;\n",
       "}\n",
       "#T_e92d7_row25_col4 {\n",
       "  background-color: #c1cff3;\n",
       "  color: #000000;\n",
       "}\n",
       "#T_e92d7_row25_col5 {\n",
       "  background-color: #d490c6;\n",
       "  color: #f1f1f1;\n",
       "}\n",
       "#T_e92d7_row26_col3, #T_e92d7_row29_col2, #T_e92d7_row30_col0, #T_e92d7_row30_col1, #T_e92d7_row31_col0, #T_e92d7_row31_col1, #T_e92d7_row31_col2, #T_e92d7_row32_col0, #T_e92d7_row32_col1, #T_e92d7_row32_col2, #T_e92d7_row33_col0, #T_e92d7_row34_col2 {\n",
       "  background-color: #020102;\n",
       "  color: #f1f1f1;\n",
       "}\n",
       "#T_e92d7_row26_col4 {\n",
       "  background-color: #d392cb;\n",
       "  color: #f1f1f1;\n",
       "}\n",
       "#T_e92d7_row26_col5 {\n",
       "  background-color: #3a7533;\n",
       "  color: #f1f1f1;\n",
       "}\n",
       "#T_e92d7_row27_col3, #T_e92d7_row28_col2, #T_e92d7_row28_col3, #T_e92d7_row28_col4, #T_e92d7_row28_col5, #T_e92d7_row29_col3, #T_e92d7_row30_col3, #T_e92d7_row31_col3, #T_e92d7_row32_col3, #T_e92d7_row33_col1, #T_e92d7_row33_col2, #T_e92d7_row33_col3, #T_e92d7_row34_col0, #T_e92d7_row34_col1, #T_e92d7_row34_col3, #T_e92d7_row35_col0, #T_e92d7_row35_col1, #T_e92d7_row35_col2, #T_e92d7_row35_col3, #T_e92d7_row36_col0, #T_e92d7_row36_col1, #T_e92d7_row36_col2, #T_e92d7_row36_col3, #T_e92d7_row37_col0, #T_e92d7_row37_col1, #T_e92d7_row37_col2, #T_e92d7_row37_col3, #T_e92d7_row38_col0, #T_e92d7_row38_col1, #T_e92d7_row38_col2, #T_e92d7_row38_col3, #T_e92d7_row38_col5, #T_e92d7_row39_col0, #T_e92d7_row39_col1, #T_e92d7_row39_col2, #T_e92d7_row39_col3, #T_e92d7_row39_col4, #T_e92d7_row39_col5, #T_e92d7_row40_col0, #T_e92d7_row40_col1, #T_e92d7_row40_col2, #T_e92d7_row40_col3, #T_e92d7_row40_col5, #T_e92d7_row41_col0, #T_e92d7_row41_col1, #T_e92d7_row41_col2, #T_e92d7_row41_col3, #T_e92d7_row41_col4, #T_e92d7_row41_col5 {\n",
       "  background-color: #000000;\n",
       "  color: #f1f1f1;\n",
       "}\n",
       "#T_e92d7_row29_col4 {\n",
       "  background-color: #d295d0;\n",
       "  color: #f1f1f1;\n",
       "}\n",
       "#T_e92d7_row29_col5 {\n",
       "  background-color: #4c792f;\n",
       "  color: #f1f1f1;\n",
       "}\n",
       "#T_e92d7_row31_col4 {\n",
       "  background-color: #c4bcf1;\n",
       "  color: #000000;\n",
       "}\n",
       "#T_e92d7_row32_col4 {\n",
       "  background-color: #c1d1f3;\n",
       "  color: #000000;\n",
       "}\n",
       "#T_e92d7_row33_col4 {\n",
       "  background-color: #ca7c83;\n",
       "  color: #f1f1f1;\n",
       "}\n",
       "#T_e92d7_row34_col5 {\n",
       "  background-color: #967a42;\n",
       "  color: #f1f1f1;\n",
       "}\n",
       "#T_e92d7_row35_col5 {\n",
       "  background-color: #727b32;\n",
       "  color: #f1f1f1;\n",
       "}\n",
       "#T_e92d7_row38_col4 {\n",
       "  background-color: #d391c9;\n",
       "  color: #f1f1f1;\n",
       "}\n",
       "</style>\n",
       "<table id=\"T_e92d7\">\n",
       "  <thead>\n",
       "    <tr>\n",
       "      <th class=\"blank level0\" >&nbsp;</th>\n",
       "      <th id=\"T_e92d7_level0_col0\" class=\"col_heading level0 col0\" >Active_cases</th>\n",
       "      <th id=\"T_e92d7_level0_col1\" class=\"col_heading level0 col1\" >Confirmed</th>\n",
       "      <th id=\"T_e92d7_level0_col2\" class=\"col_heading level0 col2\" >Cured</th>\n",
       "      <th id=\"T_e92d7_level0_col3\" class=\"col_heading level0 col3\" >Deaths</th>\n",
       "      <th id=\"T_e92d7_level0_col4\" class=\"col_heading level0 col4\" >Recovery Rate</th>\n",
       "      <th id=\"T_e92d7_level0_col5\" class=\"col_heading level0 col5\" >Mortality Rate</th>\n",
       "    </tr>\n",
       "    <tr>\n",
       "      <th class=\"index_name level0\" >State/UnionTerritory</th>\n",
       "      <th class=\"blank col0\" >&nbsp;</th>\n",
       "      <th class=\"blank col1\" >&nbsp;</th>\n",
       "      <th class=\"blank col2\" >&nbsp;</th>\n",
       "      <th class=\"blank col3\" >&nbsp;</th>\n",
       "      <th class=\"blank col4\" >&nbsp;</th>\n",
       "      <th class=\"blank col5\" >&nbsp;</th>\n",
       "    </tr>\n",
       "  </thead>\n",
       "  <tbody>\n",
       "    <tr>\n",
       "      <th id=\"T_e92d7_level0_row0\" class=\"row_heading level0 row0\" >Maharashtra</th>\n",
       "      <td id=\"T_e92d7_row0_col0\" class=\"data row0 col0\" >297506</td>\n",
       "      <td id=\"T_e92d7_row0_col1\" class=\"data row0 col1\" >1121221</td>\n",
       "      <td id=\"T_e92d7_row0_col2\" class=\"data row0 col2\" >792832</td>\n",
       "      <td id=\"T_e92d7_row0_col3\" class=\"data row0 col3\" >30883</td>\n",
       "      <td id=\"T_e92d7_row0_col4\" class=\"data row0 col4\" >70.711483</td>\n",
       "      <td id=\"T_e92d7_row0_col5\" class=\"data row0 col5\" >2.754408</td>\n",
       "    </tr>\n",
       "    <tr>\n",
       "      <th id=\"T_e92d7_level0_row1\" class=\"row_heading level0 row1\" >Andhra Pradesh</th>\n",
       "      <td id=\"T_e92d7_row1_col0\" class=\"data row1 col0\" >103521</td>\n",
       "      <td id=\"T_e92d7_row1_col1\" class=\"data row1 col1\" >592760</td>\n",
       "      <td id=\"T_e92d7_row1_col2\" class=\"data row1 col2\" >497376</td>\n",
       "      <td id=\"T_e92d7_row1_col3\" class=\"data row1 col3\" >5105</td>\n",
       "      <td id=\"T_e92d7_row1_col4\" class=\"data row1 col4\" >83.908496</td>\n",
       "      <td id=\"T_e92d7_row1_col5\" class=\"data row1 col5\" >0.861225</td>\n",
       "    </tr>\n",
       "    <tr>\n",
       "      <th id=\"T_e92d7_level0_row2\" class=\"row_heading level0 row2\" >Tamil Nadu</th>\n",
       "      <td id=\"T_e92d7_row2_col0\" class=\"data row2 col0\" >57968</td>\n",
       "      <td id=\"T_e92d7_row2_col1\" class=\"data row2 col1\" >519860</td>\n",
       "      <td id=\"T_e92d7_row2_col2\" class=\"data row2 col2\" >464668</td>\n",
       "      <td id=\"T_e92d7_row2_col3\" class=\"data row2 col3\" >8559</td>\n",
       "      <td id=\"T_e92d7_row2_col4\" class=\"data row2 col4\" >89.383296</td>\n",
       "      <td id=\"T_e92d7_row2_col5\" class=\"data row2 col5\" >1.646405</td>\n",
       "    </tr>\n",
       "    <tr>\n",
       "      <th id=\"T_e92d7_level0_row3\" class=\"row_heading level0 row3\" >Karnataka</th>\n",
       "      <td id=\"T_e92d7_row3_col0\" class=\"data row3 col0\" >101645</td>\n",
       "      <td id=\"T_e92d7_row3_col1\" class=\"data row3 col1\" >484990</td>\n",
       "      <td id=\"T_e92d7_row3_col2\" class=\"data row3 col2\" >375809</td>\n",
       "      <td id=\"T_e92d7_row3_col3\" class=\"data row3 col3\" >7536</td>\n",
       "      <td id=\"T_e92d7_row3_col4\" class=\"data row3 col4\" >77.487989</td>\n",
       "      <td id=\"T_e92d7_row3_col5\" class=\"data row3 col5\" >1.553846</td>\n",
       "    </tr>\n",
       "    <tr>\n",
       "      <th id=\"T_e92d7_level0_row4\" class=\"row_heading level0 row4\" >Uttar Pradesh</th>\n",
       "      <td id=\"T_e92d7_row4_col0\" class=\"data row4 col0\" >68122</td>\n",
       "      <td id=\"T_e92d7_row4_col1\" class=\"data row4 col1\" >330265</td>\n",
       "      <td id=\"T_e92d7_row4_col2\" class=\"data row4 col2\" >258573</td>\n",
       "      <td id=\"T_e92d7_row4_col3\" class=\"data row4 col3\" >4690</td>\n",
       "      <td id=\"T_e92d7_row4_col4\" class=\"data row4 col4\" >78.292583</td>\n",
       "      <td id=\"T_e92d7_row4_col5\" class=\"data row4 col5\" >1.420072</td>\n",
       "    </tr>\n",
       "    <tr>\n",
       "      <th id=\"T_e92d7_level0_row5\" class=\"row_heading level0 row5\" >Delhi</th>\n",
       "      <td id=\"T_e92d7_row5_col0\" class=\"data row5 col0\" >30914</td>\n",
       "      <td id=\"T_e92d7_row5_col1\" class=\"data row5 col1\" >230269</td>\n",
       "      <td id=\"T_e92d7_row5_col2\" class=\"data row5 col2\" >194516</td>\n",
       "      <td id=\"T_e92d7_row5_col3\" class=\"data row5 col3\" >4839</td>\n",
       "      <td id=\"T_e92d7_row5_col4\" class=\"data row5 col4\" >84.473377</td>\n",
       "      <td id=\"T_e92d7_row5_col5\" class=\"data row5 col5\" >2.101455</td>\n",
       "    </tr>\n",
       "    <tr>\n",
       "      <th id=\"T_e92d7_level0_row6\" class=\"row_heading level0 row6\" >West Bengal</th>\n",
       "      <td id=\"T_e92d7_row6_col0\" class=\"data row6 col0\" >28069</td>\n",
       "      <td id=\"T_e92d7_row6_col1\" class=\"data row6 col1\" >212383</td>\n",
       "      <td id=\"T_e92d7_row6_col2\" class=\"data row6 col2\" >184113</td>\n",
       "      <td id=\"T_e92d7_row6_col3\" class=\"data row6 col3\" >4123</td>\n",
       "      <td id=\"T_e92d7_row6_col4\" class=\"data row6 col4\" >86.689142</td>\n",
       "      <td id=\"T_e92d7_row6_col5\" class=\"data row6 col5\" >1.941304</td>\n",
       "    </tr>\n",
       "    <tr>\n",
       "      <th id=\"T_e92d7_level0_row7\" class=\"row_heading level0 row7\" >Telengana</th>\n",
       "      <td id=\"T_e92d7_row7_col0\" class=\"data row7 col0\" >32994</td>\n",
       "      <td id=\"T_e92d7_row7_col1\" class=\"data row7 col1\" >165003</td>\n",
       "      <td id=\"T_e92d7_row7_col2\" class=\"data row7 col2\" >133555</td>\n",
       "      <td id=\"T_e92d7_row7_col3\" class=\"data row7 col3\" >1005</td>\n",
       "      <td id=\"T_e92d7_row7_col4\" class=\"data row7 col4\" >80.940953</td>\n",
       "      <td id=\"T_e92d7_row7_col5\" class=\"data row7 col5\" >0.609080</td>\n",
       "    </tr>\n",
       "    <tr>\n",
       "      <th id=\"T_e92d7_level0_row8\" class=\"row_heading level0 row8\" >Odisha</th>\n",
       "      <td id=\"T_e92d7_row8_col0\" class=\"data row8 col0\" >32405</td>\n",
       "      <td id=\"T_e92d7_row8_col1\" class=\"data row8 col1\" >162920</td>\n",
       "      <td id=\"T_e92d7_row8_col2\" class=\"data row8 col2\" >129859</td>\n",
       "      <td id=\"T_e92d7_row8_col3\" class=\"data row8 col3\" >656</td>\n",
       "      <td id=\"T_e92d7_row8_col4\" class=\"data row8 col4\" >79.707218</td>\n",
       "      <td id=\"T_e92d7_row8_col5\" class=\"data row8 col5\" >0.402652</td>\n",
       "    </tr>\n",
       "    <tr>\n",
       "      <th id=\"T_e92d7_level0_row9\" class=\"row_heading level0 row9\" >Bihar</th>\n",
       "      <td id=\"T_e92d7_row9_col0\" class=\"data row9 col0\" >32636</td>\n",
       "      <td id=\"T_e92d7_row9_col1\" class=\"data row9 col1\" >162463</td>\n",
       "      <td id=\"T_e92d7_row9_col2\" class=\"data row9 col2\" >148656</td>\n",
       "      <td id=\"T_e92d7_row9_col3\" class=\"data row9 col3\" >848</td>\n",
       "      <td id=\"T_e92d7_row9_col4\" class=\"data row9 col4\" >91.501450</td>\n",
       "      <td id=\"T_e92d7_row9_col5\" class=\"data row9 col5\" >0.521965</td>\n",
       "    </tr>\n",
       "    <tr>\n",
       "      <th id=\"T_e92d7_level0_row10\" class=\"row_heading level0 row10\" >Assam</th>\n",
       "      <td id=\"T_e92d7_row10_col0\" class=\"data row10 col0\" >29690</td>\n",
       "      <td id=\"T_e92d7_row10_col1\" class=\"data row10 col1\" >148969</td>\n",
       "      <td id=\"T_e92d7_row10_col2\" class=\"data row10 col2\" >119367</td>\n",
       "      <td id=\"T_e92d7_row10_col3\" class=\"data row10 col3\" >511</td>\n",
       "      <td id=\"T_e92d7_row10_col4\" class=\"data row10 col4\" >80.128752</td>\n",
       "      <td id=\"T_e92d7_row10_col5\" class=\"data row10 col5\" >0.343024</td>\n",
       "    </tr>\n",
       "    <tr>\n",
       "      <th id=\"T_e92d7_level0_row11\" class=\"row_heading level0 row11\" >Kerala</th>\n",
       "      <td id=\"T_e92d7_row11_col0\" class=\"data row11 col0\" >32775</td>\n",
       "      <td id=\"T_e92d7_row11_col1\" class=\"data row11 col1\" >117863</td>\n",
       "      <td id=\"T_e92d7_row11_col2\" class=\"data row11 col2\" >84608</td>\n",
       "      <td id=\"T_e92d7_row11_col3\" class=\"data row11 col3\" >480</td>\n",
       "      <td id=\"T_e92d7_row11_col4\" class=\"data row11 col4\" >71.785039</td>\n",
       "      <td id=\"T_e92d7_row11_col5\" class=\"data row11 col5\" >0.407252</td>\n",
       "    </tr>\n",
       "    <tr>\n",
       "      <th id=\"T_e92d7_level0_row12\" class=\"row_heading level0 row12\" >Gujarat</th>\n",
       "      <td id=\"T_e92d7_row12_col0\" class=\"data row12 col0\" >16482</td>\n",
       "      <td id=\"T_e92d7_row12_col1\" class=\"data row12 col1\" >117547</td>\n",
       "      <td id=\"T_e92d7_row12_col2\" class=\"data row12 col2\" >98029</td>\n",
       "      <td id=\"T_e92d7_row12_col3\" class=\"data row12 col3\" >3256</td>\n",
       "      <td id=\"T_e92d7_row12_col4\" class=\"data row12 col4\" >83.395578</td>\n",
       "      <td id=\"T_e92d7_row12_col5\" class=\"data row12 col5\" >2.769956</td>\n",
       "    </tr>\n",
       "    <tr>\n",
       "      <th id=\"T_e92d7_level0_row13\" class=\"row_heading level0 row13\" >Rajasthan</th>\n",
       "      <td id=\"T_e92d7_row13_col0\" class=\"data row13 col0\" >17049</td>\n",
       "      <td id=\"T_e92d7_row13_col1\" class=\"data row13 col1\" >107680</td>\n",
       "      <td id=\"T_e92d7_row13_col2\" class=\"data row13 col2\" >89352</td>\n",
       "      <td id=\"T_e92d7_row13_col3\" class=\"data row13 col3\" >1279</td>\n",
       "      <td id=\"T_e92d7_row13_col4\" class=\"data row13 col4\" >82.979198</td>\n",
       "      <td id=\"T_e92d7_row13_col5\" class=\"data row13 col5\" >1.187779</td>\n",
       "    </tr>\n",
       "    <tr>\n",
       "      <th id=\"T_e92d7_level0_row14\" class=\"row_heading level0 row14\" >Haryana</th>\n",
       "      <td id=\"T_e92d7_row14_col0\" class=\"data row14 col0\" >21334</td>\n",
       "      <td id=\"T_e92d7_row14_col1\" class=\"data row14 col1\" >101316</td>\n",
       "      <td id=\"T_e92d7_row14_col2\" class=\"data row14 col2\" >78937</td>\n",
       "      <td id=\"T_e92d7_row14_col3\" class=\"data row14 col3\" >1045</td>\n",
       "      <td id=\"T_e92d7_row14_col4\" class=\"data row14 col4\" >77.911682</td>\n",
       "      <td id=\"T_e92d7_row14_col5\" class=\"data row14 col5\" >1.031426</td>\n",
       "    </tr>\n",
       "    <tr>\n",
       "      <th id=\"T_e92d7_level0_row15\" class=\"row_heading level0 row15\" >Madhya Pradesh</th>\n",
       "      <td id=\"T_e92d7_row15_col0\" class=\"data row15 col0\" >22136</td>\n",
       "      <td id=\"T_e92d7_row15_col1\" class=\"data row15 col1\" >95515</td>\n",
       "      <td id=\"T_e92d7_row15_col2\" class=\"data row15 col2\" >71535</td>\n",
       "      <td id=\"T_e92d7_row15_col3\" class=\"data row15 col3\" >1844</td>\n",
       "      <td id=\"T_e92d7_row15_col4\" class=\"data row15 col4\" >74.893996</td>\n",
       "      <td id=\"T_e92d7_row15_col5\" class=\"data row15 col5\" >1.930587</td>\n",
       "    </tr>\n",
       "    <tr>\n",
       "      <th id=\"T_e92d7_level0_row16\" class=\"row_heading level0 row16\" >Punjab</th>\n",
       "      <td id=\"T_e92d7_row16_col0\" class=\"data row16 col0\" >21154</td>\n",
       "      <td id=\"T_e92d7_row16_col1\" class=\"data row16 col1\" >87184</td>\n",
       "      <td id=\"T_e92d7_row16_col2\" class=\"data row16 col2\" >63570</td>\n",
       "      <td id=\"T_e92d7_row16_col3\" class=\"data row16 col3\" >2592</td>\n",
       "      <td id=\"T_e92d7_row16_col4\" class=\"data row16 col4\" >72.914755</td>\n",
       "      <td id=\"T_e92d7_row16_col5\" class=\"data row16 col5\" >2.973023</td>\n",
       "    </tr>\n",
       "    <tr>\n",
       "      <th id=\"T_e92d7_level0_row17\" class=\"row_heading level0 row17\" >Chhattisgarh</th>\n",
       "      <td id=\"T_e92d7_row17_col0\" class=\"data row17 col0\" >37470</td>\n",
       "      <td id=\"T_e92d7_row17_col1\" class=\"data row17 col1\" >73966</td>\n",
       "      <td id=\"T_e92d7_row17_col2\" class=\"data row17 col2\" >35885</td>\n",
       "      <td id=\"T_e92d7_row17_col3\" class=\"data row17 col3\" >611</td>\n",
       "      <td id=\"T_e92d7_row17_col4\" class=\"data row17 col4\" >48.515534</td>\n",
       "      <td id=\"T_e92d7_row17_col5\" class=\"data row17 col5\" >0.826055</td>\n",
       "    </tr>\n",
       "    <tr>\n",
       "      <th id=\"T_e92d7_level0_row18\" class=\"row_heading level0 row18\" >Jharkhand</th>\n",
       "      <td id=\"T_e92d7_row18_col0\" class=\"data row18 col0\" >15726</td>\n",
       "      <td id=\"T_e92d7_row18_col1\" class=\"data row18 col1\" >66074</td>\n",
       "      <td id=\"T_e92d7_row18_col2\" class=\"data row18 col2\" >51357</td>\n",
       "      <td id=\"T_e92d7_row18_col3\" class=\"data row18 col3\" >579</td>\n",
       "      <td id=\"T_e92d7_row18_col4\" class=\"data row18 col4\" >77.726488</td>\n",
       "      <td id=\"T_e92d7_row18_col5\" class=\"data row18 col5\" >0.876290</td>\n",
       "    </tr>\n",
       "    <tr>\n",
       "      <th id=\"T_e92d7_level0_row19\" class=\"row_heading level0 row19\" >Jammu and Kashmir</th>\n",
       "      <td id=\"T_e92d7_row19_col0\" class=\"data row19 col0\" >19503</td>\n",
       "      <td id=\"T_e92d7_row19_col1\" class=\"data row19 col1\" >58244</td>\n",
       "      <td id=\"T_e92d7_row19_col2\" class=\"data row19 col2\" >37809</td>\n",
       "      <td id=\"T_e92d7_row19_col3\" class=\"data row19 col3\" >932</td>\n",
       "      <td id=\"T_e92d7_row19_col4\" class=\"data row19 col4\" >64.914841</td>\n",
       "      <td id=\"T_e92d7_row19_col5\" class=\"data row19 col5\" >1.600165</td>\n",
       "    </tr>\n",
       "    <tr>\n",
       "      <th id=\"T_e92d7_level0_row20\" class=\"row_heading level0 row20\" >Telengana***</th>\n",
       "      <td id=\"T_e92d7_row20_col0\" class=\"data row20 col0\" >13753</td>\n",
       "      <td id=\"T_e92d7_row20_col1\" class=\"data row20 col1\" >57142</td>\n",
       "      <td id=\"T_e92d7_row20_col2\" class=\"data row20 col2\" >42909</td>\n",
       "      <td id=\"T_e92d7_row20_col3\" class=\"data row20 col3\" >480</td>\n",
       "      <td id=\"T_e92d7_row20_col4\" class=\"data row20 col4\" >75.091876</td>\n",
       "      <td id=\"T_e92d7_row20_col5\" class=\"data row20 col5\" >0.840013</td>\n",
       "    </tr>\n",
       "    <tr>\n",
       "      <th id=\"T_e92d7_level0_row21\" class=\"row_heading level0 row21\" >Telangana</th>\n",
       "      <td id=\"T_e92d7_row21_col0\" class=\"data row21 col0\" >13388</td>\n",
       "      <td id=\"T_e92d7_row21_col1\" class=\"data row21 col1\" >54059</td>\n",
       "      <td id=\"T_e92d7_row21_col2\" class=\"data row21 col2\" >41332</td>\n",
       "      <td id=\"T_e92d7_row21_col3\" class=\"data row21 col3\" >463</td>\n",
       "      <td id=\"T_e92d7_row21_col4\" class=\"data row21 col4\" >76.457204</td>\n",
       "      <td id=\"T_e92d7_row21_col5\" class=\"data row21 col5\" >0.856472</td>\n",
       "    </tr>\n",
       "    <tr>\n",
       "      <th id=\"T_e92d7_level0_row22\" class=\"row_heading level0 row22\" >Telangana***</th>\n",
       "      <td id=\"T_e92d7_row22_col0\" class=\"data row22 col0\" >11677</td>\n",
       "      <td id=\"T_e92d7_row22_col1\" class=\"data row22 col1\" >52466</td>\n",
       "      <td id=\"T_e92d7_row22_col2\" class=\"data row22 col2\" >40334</td>\n",
       "      <td id=\"T_e92d7_row22_col3\" class=\"data row22 col3\" >455</td>\n",
       "      <td id=\"T_e92d7_row22_col4\" class=\"data row22 col4\" >76.876453</td>\n",
       "      <td id=\"T_e92d7_row22_col5\" class=\"data row22 col5\" >0.867228</td>\n",
       "    </tr>\n",
       "    <tr>\n",
       "      <th id=\"T_e92d7_level0_row23\" class=\"row_heading level0 row23\" >Uttarakhand</th>\n",
       "      <td id=\"T_e92d7_row23_col0\" class=\"data row23 col0\" >11068</td>\n",
       "      <td id=\"T_e92d7_row23_col1\" class=\"data row23 col1\" >35947</td>\n",
       "      <td id=\"T_e92d7_row23_col2\" class=\"data row23 col2\" >24432</td>\n",
       "      <td id=\"T_e92d7_row23_col3\" class=\"data row23 col3\" >447</td>\n",
       "      <td id=\"T_e92d7_row23_col4\" class=\"data row23 col4\" >67.966729</td>\n",
       "      <td id=\"T_e92d7_row23_col5\" class=\"data row23 col5\" >1.243497</td>\n",
       "    </tr>\n",
       "    <tr>\n",
       "      <th id=\"T_e92d7_level0_row24\" class=\"row_heading level0 row24\" >Goa</th>\n",
       "      <td id=\"T_e92d7_row24_col0\" class=\"data row24 col0\" >5375</td>\n",
       "      <td id=\"T_e92d7_row24_col1\" class=\"data row24 col1\" >26139</td>\n",
       "      <td id=\"T_e92d7_row24_col2\" class=\"data row24 col2\" >20445</td>\n",
       "      <td id=\"T_e92d7_row24_col3\" class=\"data row24 col3\" >319</td>\n",
       "      <td id=\"T_e92d7_row24_col4\" class=\"data row24 col4\" >78.216458</td>\n",
       "      <td id=\"T_e92d7_row24_col5\" class=\"data row24 col5\" >1.220399</td>\n",
       "    </tr>\n",
       "    <tr>\n",
       "      <th id=\"T_e92d7_level0_row25\" class=\"row_heading level0 row25\" >Puducherry</th>\n",
       "      <td id=\"T_e92d7_row25_col0\" class=\"data row25 col0\" >5210</td>\n",
       "      <td id=\"T_e92d7_row25_col1\" class=\"data row25 col1\" >21111</td>\n",
       "      <td id=\"T_e92d7_row25_col2\" class=\"data row25 col2\" >15923</td>\n",
       "      <td id=\"T_e92d7_row25_col3\" class=\"data row25 col3\" >418</td>\n",
       "      <td id=\"T_e92d7_row25_col4\" class=\"data row25 col4\" >75.425134</td>\n",
       "      <td id=\"T_e92d7_row25_col5\" class=\"data row25 col5\" >1.980010</td>\n",
       "    </tr>\n",
       "    <tr>\n",
       "      <th id=\"T_e92d7_level0_row26\" class=\"row_heading level0 row26\" >Tripura</th>\n",
       "      <td id=\"T_e92d7_row26_col0\" class=\"data row26 col0\" >7584</td>\n",
       "      <td id=\"T_e92d7_row26_col1\" class=\"data row26 col1\" >20676</td>\n",
       "      <td id=\"T_e92d7_row26_col2\" class=\"data row26 col2\" >12956</td>\n",
       "      <td id=\"T_e92d7_row26_col3\" class=\"data row26 col3\" >222</td>\n",
       "      <td id=\"T_e92d7_row26_col4\" class=\"data row26 col4\" >62.662024</td>\n",
       "      <td id=\"T_e92d7_row26_col5\" class=\"data row26 col5\" >1.073709</td>\n",
       "    </tr>\n",
       "    <tr>\n",
       "      <th id=\"T_e92d7_level0_row27\" class=\"row_heading level0 row27\" >Himachal Pradesh</th>\n",
       "      <td id=\"T_e92d7_row27_col0\" class=\"data row27 col0\" >4146</td>\n",
       "      <td id=\"T_e92d7_row27_col1\" class=\"data row27 col1\" >10795</td>\n",
       "      <td id=\"T_e92d7_row27_col2\" class=\"data row27 col2\" >6558</td>\n",
       "      <td id=\"T_e92d7_row27_col3\" class=\"data row27 col3\" >91</td>\n",
       "      <td id=\"T_e92d7_row27_col4\" class=\"data row27 col4\" >60.750347</td>\n",
       "      <td id=\"T_e92d7_row27_col5\" class=\"data row27 col5\" >0.842983</td>\n",
       "    </tr>\n",
       "    <tr>\n",
       "      <th id=\"T_e92d7_level0_row28\" class=\"row_heading level0 row28\" >Cases being reassigned to states</th>\n",
       "      <td id=\"T_e92d7_row28_col0\" class=\"data row28 col0\" >9265</td>\n",
       "      <td id=\"T_e92d7_row28_col1\" class=\"data row28 col1\" >9265</td>\n",
       "      <td id=\"T_e92d7_row28_col2\" class=\"data row28 col2\" >0</td>\n",
       "      <td id=\"T_e92d7_row28_col3\" class=\"data row28 col3\" >0</td>\n",
       "      <td id=\"T_e92d7_row28_col4\" class=\"data row28 col4\" >0.000000</td>\n",
       "      <td id=\"T_e92d7_row28_col5\" class=\"data row28 col5\" >0.000000</td>\n",
       "    </tr>\n",
       "    <tr>\n",
       "      <th id=\"T_e92d7_level0_row29\" class=\"row_heading level0 row29\" >Chandigarh</th>\n",
       "      <td id=\"T_e92d7_row29_col0\" class=\"data row29 col0\" >3171</td>\n",
       "      <td id=\"T_e92d7_row29_col1\" class=\"data row29 col1\" >8958</td>\n",
       "      <td id=\"T_e92d7_row29_col2\" class=\"data row29 col2\" >5683</td>\n",
       "      <td id=\"T_e92d7_row29_col3\" class=\"data row29 col3\" >104</td>\n",
       "      <td id=\"T_e92d7_row29_col4\" class=\"data row29 col4\" >63.440500</td>\n",
       "      <td id=\"T_e92d7_row29_col5\" class=\"data row29 col5\" >1.160973</td>\n",
       "    </tr>\n",
       "    <tr>\n",
       "      <th id=\"T_e92d7_level0_row30\" class=\"row_heading level0 row30\" >Manipur</th>\n",
       "      <td id=\"T_e92d7_row30_col0\" class=\"data row30 col0\" >1973</td>\n",
       "      <td id=\"T_e92d7_row30_col1\" class=\"data row30 col1\" >8320</td>\n",
       "      <td id=\"T_e92d7_row30_col2\" class=\"data row30 col2\" >6521</td>\n",
       "      <td id=\"T_e92d7_row30_col3\" class=\"data row30 col3\" >48</td>\n",
       "      <td id=\"T_e92d7_row30_col4\" class=\"data row30 col4\" >78.377404</td>\n",
       "      <td id=\"T_e92d7_row30_col5\" class=\"data row30 col5\" >0.576923</td>\n",
       "    </tr>\n",
       "    <tr>\n",
       "      <th id=\"T_e92d7_level0_row31\" class=\"row_heading level0 row31\" >Arunachal Pradesh</th>\n",
       "      <td id=\"T_e92d7_row31_col0\" class=\"data row31 col0\" >1892</td>\n",
       "      <td id=\"T_e92d7_row31_col1\" class=\"data row31 col1\" >6692</td>\n",
       "      <td id=\"T_e92d7_row31_col2\" class=\"data row31 col2\" >4787</td>\n",
       "      <td id=\"T_e92d7_row31_col3\" class=\"data row31 col3\" >13</td>\n",
       "      <td id=\"T_e92d7_row31_col4\" class=\"data row31 col4\" >71.533174</td>\n",
       "      <td id=\"T_e92d7_row31_col5\" class=\"data row31 col5\" >0.194262</td>\n",
       "    </tr>\n",
       "    <tr>\n",
       "      <th id=\"T_e92d7_level0_row32\" class=\"row_heading level0 row32\" >Nagaland</th>\n",
       "      <td id=\"T_e92d7_row32_col0\" class=\"data row32 col0\" >2116</td>\n",
       "      <td id=\"T_e92d7_row32_col1\" class=\"data row32 col1\" >5263</td>\n",
       "      <td id=\"T_e92d7_row32_col2\" class=\"data row32 col2\" >3987</td>\n",
       "      <td id=\"T_e92d7_row32_col3\" class=\"data row32 col3\" >15</td>\n",
       "      <td id=\"T_e92d7_row32_col4\" class=\"data row32 col4\" >75.755273</td>\n",
       "      <td id=\"T_e92d7_row32_col5\" class=\"data row32 col5\" >0.285009</td>\n",
       "    </tr>\n",
       "    <tr>\n",
       "      <th id=\"T_e92d7_level0_row33\" class=\"row_heading level0 row33\" >Meghalaya</th>\n",
       "      <td id=\"T_e92d7_row33_col0\" class=\"data row33 col0\" >1902</td>\n",
       "      <td id=\"T_e92d7_row33_col1\" class=\"data row33 col1\" >4195</td>\n",
       "      <td id=\"T_e92d7_row33_col2\" class=\"data row33 col2\" >2264</td>\n",
       "      <td id=\"T_e92d7_row33_col3\" class=\"data row33 col3\" >29</td>\n",
       "      <td id=\"T_e92d7_row33_col4\" class=\"data row33 col4\" >53.969011</td>\n",
       "      <td id=\"T_e92d7_row33_col5\" class=\"data row33 col5\" >0.691299</td>\n",
       "    </tr>\n",
       "    <tr>\n",
       "      <th id=\"T_e92d7_level0_row34\" class=\"row_heading level0 row34\" >Andaman and Nicobar Islands</th>\n",
       "      <td id=\"T_e92d7_row34_col0\" class=\"data row34 col0\" >1154</td>\n",
       "      <td id=\"T_e92d7_row34_col1\" class=\"data row34 col1\" >3593</td>\n",
       "      <td id=\"T_e92d7_row34_col2\" class=\"data row34 col2\" >3345</td>\n",
       "      <td id=\"T_e92d7_row34_col3\" class=\"data row34 col3\" >52</td>\n",
       "      <td id=\"T_e92d7_row34_col4\" class=\"data row34 col4\" >93.097690</td>\n",
       "      <td id=\"T_e92d7_row34_col5\" class=\"data row34 col5\" >1.447259</td>\n",
       "    </tr>\n",
       "    <tr>\n",
       "      <th id=\"T_e92d7_level0_row35\" class=\"row_heading level0 row35\" >Ladakh</th>\n",
       "      <td id=\"T_e92d7_row35_col0\" class=\"data row35 col0\" >953</td>\n",
       "      <td id=\"T_e92d7_row35_col1\" class=\"data row35 col1\" >3535</td>\n",
       "      <td id=\"T_e92d7_row35_col2\" class=\"data row35 col2\" >2536</td>\n",
       "      <td id=\"T_e92d7_row35_col3\" class=\"data row35 col3\" >46</td>\n",
       "      <td id=\"T_e92d7_row35_col4\" class=\"data row35 col4\" >71.739745</td>\n",
       "      <td id=\"T_e92d7_row35_col5\" class=\"data row35 col5\" >1.301273</td>\n",
       "    </tr>\n",
       "    <tr>\n",
       "      <th id=\"T_e92d7_level0_row36\" class=\"row_heading level0 row36\" >Dadra and Nagar Haveli and Daman and Diu</th>\n",
       "      <td id=\"T_e92d7_row36_col0\" class=\"data row36 col0\" >464</td>\n",
       "      <td id=\"T_e92d7_row36_col1\" class=\"data row36 col1\" >2810</td>\n",
       "      <td id=\"T_e92d7_row36_col2\" class=\"data row36 col2\" >2575</td>\n",
       "      <td id=\"T_e92d7_row36_col3\" class=\"data row36 col3\" >2</td>\n",
       "      <td id=\"T_e92d7_row36_col4\" class=\"data row36 col4\" >91.637011</td>\n",
       "      <td id=\"T_e92d7_row36_col5\" class=\"data row36 col5\" >0.071174</td>\n",
       "    </tr>\n",
       "    <tr>\n",
       "      <th id=\"T_e92d7_level0_row37\" class=\"row_heading level0 row37\" >Sikkim</th>\n",
       "      <td id=\"T_e92d7_row37_col0\" class=\"data row37 col0\" >582</td>\n",
       "      <td id=\"T_e92d7_row37_col1\" class=\"data row37 col1\" >2221</td>\n",
       "      <td id=\"T_e92d7_row37_col2\" class=\"data row37 col2\" >1722</td>\n",
       "      <td id=\"T_e92d7_row37_col3\" class=\"data row37 col3\" >19</td>\n",
       "      <td id=\"T_e92d7_row37_col4\" class=\"data row37 col4\" >77.532643</td>\n",
       "      <td id=\"T_e92d7_row37_col5\" class=\"data row37 col5\" >0.855471</td>\n",
       "    </tr>\n",
       "    <tr>\n",
       "      <th id=\"T_e92d7_level0_row38\" class=\"row_heading level0 row38\" >Mizoram</th>\n",
       "      <td id=\"T_e92d7_row38_col0\" class=\"data row38 col0\" >598</td>\n",
       "      <td id=\"T_e92d7_row38_col1\" class=\"data row38 col1\" >1506</td>\n",
       "      <td id=\"T_e92d7_row38_col2\" class=\"data row38 col2\" >939</td>\n",
       "      <td id=\"T_e92d7_row38_col3\" class=\"data row38 col3\" >0</td>\n",
       "      <td id=\"T_e92d7_row38_col4\" class=\"data row38 col4\" >62.350598</td>\n",
       "      <td id=\"T_e92d7_row38_col5\" class=\"data row38 col5\" >0.000000</td>\n",
       "    </tr>\n",
       "    <tr>\n",
       "      <th id=\"T_e92d7_level0_row39\" class=\"row_heading level0 row39\" >Unassigned</th>\n",
       "      <td id=\"T_e92d7_row39_col0\" class=\"data row39 col0\" >77</td>\n",
       "      <td id=\"T_e92d7_row39_col1\" class=\"data row39 col1\" >77</td>\n",
       "      <td id=\"T_e92d7_row39_col2\" class=\"data row39 col2\" >0</td>\n",
       "      <td id=\"T_e92d7_row39_col3\" class=\"data row39 col3\" >0</td>\n",
       "      <td id=\"T_e92d7_row39_col4\" class=\"data row39 col4\" >0.000000</td>\n",
       "      <td id=\"T_e92d7_row39_col5\" class=\"data row39 col5\" >0.000000</td>\n",
       "    </tr>\n",
       "    <tr>\n",
       "      <th id=\"T_e92d7_level0_row40\" class=\"row_heading level0 row40\" >Dadar Nagar Haveli</th>\n",
       "      <td id=\"T_e92d7_row40_col0\" class=\"data row40 col0\" >24</td>\n",
       "      <td id=\"T_e92d7_row40_col1\" class=\"data row40 col1\" >26</td>\n",
       "      <td id=\"T_e92d7_row40_col2\" class=\"data row40 col2\" >2</td>\n",
       "      <td id=\"T_e92d7_row40_col3\" class=\"data row40 col3\" >0</td>\n",
       "      <td id=\"T_e92d7_row40_col4\" class=\"data row40 col4\" >7.692308</td>\n",
       "      <td id=\"T_e92d7_row40_col5\" class=\"data row40 col5\" >0.000000</td>\n",
       "    </tr>\n",
       "    <tr>\n",
       "      <th id=\"T_e92d7_level0_row41\" class=\"row_heading level0 row41\" >Daman & Diu</th>\n",
       "      <td id=\"T_e92d7_row41_col0\" class=\"data row41 col0\" >2</td>\n",
       "      <td id=\"T_e92d7_row41_col1\" class=\"data row41 col1\" >2</td>\n",
       "      <td id=\"T_e92d7_row41_col2\" class=\"data row41 col2\" >0</td>\n",
       "      <td id=\"T_e92d7_row41_col3\" class=\"data row41 col3\" >0</td>\n",
       "      <td id=\"T_e92d7_row41_col4\" class=\"data row41 col4\" >0.000000</td>\n",
       "      <td id=\"T_e92d7_row41_col5\" class=\"data row41 col5\" >0.000000</td>\n",
       "    </tr>\n",
       "  </tbody>\n",
       "</table>\n"
      ],
      "text/plain": [
       "<pandas.io.formats.style.Styler at 0x1c8936f71d0>"
      ]
     },
     "execution_count": 29,
     "metadata": {},
     "output_type": "execute_result"
    }
   ],
   "source": [
    "statewise.style.background_gradient(cmap=\"cubehelix\")"
   ]
  },
  {
   "cell_type": "code",
   "execution_count": 75,
   "id": "e6f98ab4",
   "metadata": {},
   "outputs": [
    {
     "data": {
      "text/plain": [
       "Text(0.5, 1.0, 'Top 10 Active Case')"
      ]
     },
     "execution_count": 75,
     "metadata": {},
     "output_type": "execute_result"
    },
    {
     "data": {
      "image/png": "[encoded data removed]",
      "text/plain": [
       "<Figure size 1500x500 with 1 Axes>"
      ]
     },
     "metadata": {},
     "output_type": "display_data"
    }
   ],
   "source": [
    "#top 10 active case\n",
    "plt.figure(figsize=(15,5))\n",
    "top_statewise=statewise.head(10).sort_values(by=\"Active_cases\",ascending=False)\n",
    "ax=sns.barplot(x=top_statewise.index,y=top_statewise[\"Active_cases\"])\n",
    "ax.set_title(\"Top 10 Active Case\",size=16)"
   ]
  },
  {
   "cell_type": "code",
   "execution_count": 73,
   "id": "35cc51e4",
   "metadata": {},
   "outputs": [
    {
     "data": {
      "text/plain": [
       "Text(0.5, 1.0, 'Top 10 States with Highest Deaths')"
      ]
     },
     "execution_count": 73,
     "metadata": {},
     "output_type": "execute_result"
    },
    {
     "data": {
      "image/png": "[encoded data removed]",
      "text/plain": [
       "<Figure size 1500x500 with 1 Axes>"
      ]
     },
     "metadata": {},
     "output_type": "display_data"
    }
   ],
   "source": [
    "#top 10 states with highest deaths\n",
    "plt.figure(figsize=(15,5))\n",
    "top_statewise2=statewise.head(10).sort_values(by=\"Deaths\",ascending=False)\n",
    "ax=sns.barplot(x=top_statewise2.index,y=top_statewise2[\"Deaths\"])\n",
    "ax.set_title(\"Top 10 States with Highest Deaths\", size=16)"
   ]
  },
  {
   "cell_type": "code",
   "execution_count": 32,
   "id": "a50e445f",
   "metadata": {},
   "outputs": [
    {
     "data": {
      "image/png": "[encoded data removed]",
      "text/plain": [
       "<Figure size 1500x500 with 1 Axes>"
      ]
     },
     "metadata": {},
     "output_type": "display_data"
    }
   ],
   "source": [
    "#Growth Trend\n",
    "fig = plt.figure(figsize=(15, 5))\n",
    "ax = sns.lineplot(data=covid_df[covid_df[\"State/UnionTerritory\"].isin([\"Maharashtra\", \"Karnataka\", \"Kerala\", \"Tamil Nadu\"])], x='Date', y='Active_cases', hue='State/UnionTerritory')\n",
    "ax.set_title(\"COVID Trend\", size=16)\n",
    "plt.show()"
   ]
  },
  {
   "cell_type": "code",
   "execution_count": 33,
   "id": "45516135",
   "metadata": {},
   "outputs": [
    {
     "data": {
      "image/png": "[encoded data removed]",
      "text/plain": [
       "<Figure size 1500x500 with 1 Axes>"
      ]
     },
     "metadata": {},
     "output_type": "display_data"
    }
   ],
   "source": [
    "#Growth Trend\n",
    "fig = plt.figure(figsize=(15, 5))\n",
    "ax = sns.lineplot(data=covid_df, x='Date', y='Active_cases', hue='State/UnionTerritory')\n",
    "ax.set_title(\"COVID Trend\", size=16)\n",
    "plt.show()"
   ]
  },
  {
   "cell_type": "code",
   "execution_count": 34,
   "id": "e283f1c4",
   "metadata": {},
   "outputs": [],
   "source": [
    "#the correlation between the data veriables\n",
    "\n",
    "def correlation_cat(tips_categorical):\n",
    "         \n",
    "    def cramers_V(var1,var2) :\n",
    "            crosstab =np.array(pd.crosstab(var1,var2, rownames=None, colnames=None)) # Cross table building\n",
    "            stat = chi2_contingency(crosstab)[0] # Keeping of the test statistic of the Chi2 test\n",
    "            obs = np.sum(crosstab) # Number of observations\n",
    "            mini = min(crosstab.shape)-1 # Take the minimum value between the columns and the rows of the cross table\n",
    "            return (stat/(obs*mini))\n",
    "    from scipy.stats import chi2_contingency\n",
    "    rows= []\n",
    "\n",
    "    for var1 in tips_categorical:\n",
    "            col = []\n",
    "            for var2 in tips_categorical :\n",
    "                    cramers =cramers_V(tips_categorical[var1], tips_categorical[var2]) # Cramer's V test\n",
    "                    col.append(round(cramers,2)) # Keeping of the rounded value of the Cramer's V  \n",
    "            rows.append(col)\n",
    "  \n",
    "    cramers_results = np.array(rows)\n",
    "    df = pd.DataFrame(cramers_results, columns = tips_categorical.columns, index =tips_categorical.columns)\n",
    "# generating 2-D 10x10 matrix of random numbers\n",
    "# from 1 to 100\n",
    "    data = np.random.randint(low=1,\n",
    "                         high=100,\n",
    "                         size=(5,5))\n",
    "  \n",
    " # setting the parameter values\n",
    "    annot = True\n",
    "  \n",
    " # plotting the heatmap\n",
    "    \n",
    "    hm = sns.heatmap(data=df,\n",
    "                annot=annot)\n",
    "  \n",
    " # displaying the plotted heatmap\n",
    "    plt.show()"
   ]
  },
  {
   "cell_type": "code",
   "execution_count": 45,
   "id": "929ae2de",
   "metadata": {},
   "outputs": [
    {
     "data": {
      "text/plain": [
       "<Axes: >"
      ]
     },
     "execution_count": 45,
     "metadata": {},
     "output_type": "execute_result"
    },
    {
     "data": {
      "image/png": "[encoded data removed]",
      "text/plain": [
       "<Figure size 1000x500 with 2 Axes>"
      ]
     },
     "metadata": {},
     "output_type": "display_data"
    }
   ],
   "source": [
    "plt.figure(figsize=(10,5))\n",
    "sns.heatmap(statewise[[\"Active_cases\",\"Confirmed\",\"Cured\",\"Deaths\",\"Recovery Rate\",\"Mortality Rate\"]].corr(),annot=True)"
   ]
  },
  {
   "cell_type": "code",
   "execution_count": 48,
   "id": "2a011c2c",
   "metadata": {},
   "outputs": [
    {
     "data": {
      "text/html": [
       "<div>\n",
       "<style scoped>\n",
       "    .dataframe tbody tr th:only-of-type {\n",
       "        vertical-align: middle;\n",
       "    }\n",
       "\n",
       "    .dataframe tbody tr th {\n",
       "        vertical-align: top;\n",
       "    }\n",
       "\n",
       "    .dataframe thead th {\n",
       "        text-align: right;\n",
       "    }\n",
       "</style>\n",
       "<table border=\"1\" class=\"dataframe\">\n",
       "  <thead>\n",
       "    <tr style=\"text-align: right;\">\n",
       "      <th></th>\n",
       "      <th>Updated On</th>\n",
       "      <th>State</th>\n",
       "      <th>Total Doses Administered</th>\n",
       "      <th>Sessions</th>\n",
       "      <th>Sites</th>\n",
       "      <th>First Dose Administered</th>\n",
       "      <th>Second Dose Administered</th>\n",
       "      <th>Male (Doses Administered)</th>\n",
       "      <th>Female (Doses Administered)</th>\n",
       "      <th>Transgender (Doses Administered)</th>\n",
       "      <th>...</th>\n",
       "      <th>18-44 Years (Doses Administered)</th>\n",
       "      <th>45-60 Years (Doses Administered)</th>\n",
       "      <th>60+ Years (Doses Administered)</th>\n",
       "      <th>18-44 Years(Individuals Vaccinated)</th>\n",
       "      <th>45-60 Years(Individuals Vaccinated)</th>\n",
       "      <th>60+ Years(Individuals Vaccinated)</th>\n",
       "      <th>Male(Individuals Vaccinated)</th>\n",
       "      <th>Female(Individuals Vaccinated)</th>\n",
       "      <th>Transgender(Individuals Vaccinated)</th>\n",
       "      <th>Total Individuals Vaccinated</th>\n",
       "    </tr>\n",
       "  </thead>\n",
       "  <tbody>\n",
       "    <tr>\n",
       "      <th>0</th>\n",
       "      <td>16/01/2021</td>\n",
       "      <td>India</td>\n",
       "      <td>48276.0</td>\n",
       "      <td>3455.0</td>\n",
       "      <td>2957.0</td>\n",
       "      <td>48276.0</td>\n",
       "      <td>0.0</td>\n",
       "      <td>NaN</td>\n",
       "      <td>NaN</td>\n",
       "      <td>NaN</td>\n",
       "      <td>...</td>\n",
       "      <td>NaN</td>\n",
       "      <td>NaN</td>\n",
       "      <td>NaN</td>\n",
       "      <td>NaN</td>\n",
       "      <td>NaN</td>\n",
       "      <td>NaN</td>\n",
       "      <td>23757.0</td>\n",
       "      <td>24517.0</td>\n",
       "      <td>2.0</td>\n",
       "      <td>48276.0</td>\n",
       "    </tr>\n",
       "    <tr>\n",
       "      <th>1</th>\n",
       "      <td>17/01/2021</td>\n",
       "      <td>India</td>\n",
       "      <td>58604.0</td>\n",
       "      <td>8532.0</td>\n",
       "      <td>4954.0</td>\n",
       "      <td>58604.0</td>\n",
       "      <td>0.0</td>\n",
       "      <td>NaN</td>\n",
       "      <td>NaN</td>\n",
       "      <td>NaN</td>\n",
       "      <td>...</td>\n",
       "      <td>NaN</td>\n",
       "      <td>NaN</td>\n",
       "      <td>NaN</td>\n",
       "      <td>NaN</td>\n",
       "      <td>NaN</td>\n",
       "      <td>NaN</td>\n",
       "      <td>27348.0</td>\n",
       "      <td>31252.0</td>\n",
       "      <td>4.0</td>\n",
       "      <td>58604.0</td>\n",
       "    </tr>\n",
       "    <tr>\n",
       "      <th>2</th>\n",
       "      <td>18/01/2021</td>\n",
       "      <td>India</td>\n",
       "      <td>99449.0</td>\n",
       "      <td>13611.0</td>\n",
       "      <td>6583.0</td>\n",
       "      <td>99449.0</td>\n",
       "      <td>0.0</td>\n",
       "      <td>NaN</td>\n",
       "      <td>NaN</td>\n",
       "      <td>NaN</td>\n",
       "      <td>...</td>\n",
       "      <td>NaN</td>\n",
       "      <td>NaN</td>\n",
       "      <td>NaN</td>\n",
       "      <td>NaN</td>\n",
       "      <td>NaN</td>\n",
       "      <td>NaN</td>\n",
       "      <td>41361.0</td>\n",
       "      <td>58083.0</td>\n",
       "      <td>5.0</td>\n",
       "      <td>99449.0</td>\n",
       "    </tr>\n",
       "    <tr>\n",
       "      <th>3</th>\n",
       "      <td>19/01/2021</td>\n",
       "      <td>India</td>\n",
       "      <td>195525.0</td>\n",
       "      <td>17855.0</td>\n",
       "      <td>7951.0</td>\n",
       "      <td>195525.0</td>\n",
       "      <td>0.0</td>\n",
       "      <td>NaN</td>\n",
       "      <td>NaN</td>\n",
       "      <td>NaN</td>\n",
       "      <td>...</td>\n",
       "      <td>NaN</td>\n",
       "      <td>NaN</td>\n",
       "      <td>NaN</td>\n",
       "      <td>NaN</td>\n",
       "      <td>NaN</td>\n",
       "      <td>NaN</td>\n",
       "      <td>81901.0</td>\n",
       "      <td>113613.0</td>\n",
       "      <td>11.0</td>\n",
       "      <td>195525.0</td>\n",
       "    </tr>\n",
       "    <tr>\n",
       "      <th>4</th>\n",
       "      <td>20/01/2021</td>\n",
       "      <td>India</td>\n",
       "      <td>251280.0</td>\n",
       "      <td>25472.0</td>\n",
       "      <td>10504.0</td>\n",
       "      <td>251280.0</td>\n",
       "      <td>0.0</td>\n",
       "      <td>NaN</td>\n",
       "      <td>NaN</td>\n",
       "      <td>NaN</td>\n",
       "      <td>...</td>\n",
       "      <td>NaN</td>\n",
       "      <td>NaN</td>\n",
       "      <td>NaN</td>\n",
       "      <td>NaN</td>\n",
       "      <td>NaN</td>\n",
       "      <td>NaN</td>\n",
       "      <td>98111.0</td>\n",
       "      <td>153145.0</td>\n",
       "      <td>24.0</td>\n",
       "      <td>251280.0</td>\n",
       "    </tr>\n",
       "  </tbody>\n",
       "</table>\n",
       "<p>5 rows × 24 columns</p>\n",
       "</div>"
      ],
      "text/plain": [
       "   Updated On  State  Total Doses Administered  Sessions   Sites   \\\n",
       "0  16/01/2021  India                   48276.0    3455.0   2957.0   \n",
       "1  17/01/2021  India                   58604.0    8532.0   4954.0   \n",
       "2  18/01/2021  India                   99449.0   13611.0   6583.0   \n",
       "3  19/01/2021  India                  195525.0   17855.0   7951.0   \n",
       "4  20/01/2021  India                  251280.0   25472.0  10504.0   \n",
       "\n",
       "   First Dose Administered  Second Dose Administered  \\\n",
       "0                  48276.0                       0.0   \n",
       "1                  58604.0                       0.0   \n",
       "2                  99449.0                       0.0   \n",
       "3                 195525.0                       0.0   \n",
       "4                 251280.0                       0.0   \n",
       "\n",
       "   Male (Doses Administered)  Female (Doses Administered)  \\\n",
       "0                        NaN                          NaN   \n",
       "1                        NaN                          NaN   \n",
       "2                        NaN                          NaN   \n",
       "3                        NaN                          NaN   \n",
       "4                        NaN                          NaN   \n",
       "\n",
       "   Transgender (Doses Administered)  ...  18-44 Years (Doses Administered)  \\\n",
       "0                               NaN  ...                               NaN   \n",
       "1                               NaN  ...                               NaN   \n",
       "2                               NaN  ...                               NaN   \n",
       "3                               NaN  ...                               NaN   \n",
       "4                               NaN  ...                               NaN   \n",
       "\n",
       "   45-60 Years (Doses Administered)  60+ Years (Doses Administered)  \\\n",
       "0                               NaN                             NaN   \n",
       "1                               NaN                             NaN   \n",
       "2                               NaN                             NaN   \n",
       "3                               NaN                             NaN   \n",
       "4                               NaN                             NaN   \n",
       "\n",
       "   18-44 Years(Individuals Vaccinated)  45-60 Years(Individuals Vaccinated)  \\\n",
       "0                                  NaN                                  NaN   \n",
       "1                                  NaN                                  NaN   \n",
       "2                                  NaN                                  NaN   \n",
       "3                                  NaN                                  NaN   \n",
       "4                                  NaN                                  NaN   \n",
       "\n",
       "   60+ Years(Individuals Vaccinated)  Male(Individuals Vaccinated)  \\\n",
       "0                                NaN                       23757.0   \n",
       "1                                NaN                       27348.0   \n",
       "2                                NaN                       41361.0   \n",
       "3                                NaN                       81901.0   \n",
       "4                                NaN                       98111.0   \n",
       "\n",
       "   Female(Individuals Vaccinated)  Transgender(Individuals Vaccinated)  \\\n",
       "0                         24517.0                                  2.0   \n",
       "1                         31252.0                                  4.0   \n",
       "2                         58083.0                                  5.0   \n",
       "3                        113613.0                                 11.0   \n",
       "4                        153145.0                                 24.0   \n",
       "\n",
       "   Total Individuals Vaccinated  \n",
       "0                       48276.0  \n",
       "1                       58604.0  \n",
       "2                       99449.0  \n",
       "3                      195525.0  \n",
       "4                      251280.0  \n",
       "\n",
       "[5 rows x 24 columns]"
      ]
     },
     "execution_count": 48,
     "metadata": {},
     "output_type": "execute_result"
    }
   ],
   "source": [
    "#second dataset\n",
    "vaccine_df.head()"
   ]
  },
  {
   "cell_type": "code",
   "execution_count": 50,
   "id": "183ae076",
   "metadata": {},
   "outputs": [],
   "source": [
    "vaccine_df.rename(columns={\"Updated On\":\"Vaccine_Date\"},inplace=True)"
   ]
  },
  {
   "cell_type": "code",
   "execution_count": 51,
   "id": "aa883f43",
   "metadata": {},
   "outputs": [
    {
     "name": "stdout",
     "output_type": "stream",
     "text": [
      "<class 'pandas.core.frame.DataFrame'>\n",
      "RangeIndex: 7845 entries, 0 to 7844\n",
      "Data columns (total 24 columns):\n",
      " #   Column                               Non-Null Count  Dtype  \n",
      "---  ------                               --------------  -----  \n",
      " 0   Vaccine_Date                         7845 non-null   object \n",
      " 1   State                                7845 non-null   object \n",
      " 2   Total Doses Administered             7621 non-null   float64\n",
      " 3   Sessions                             7621 non-null   float64\n",
      " 4    Sites                               7621 non-null   float64\n",
      " 5   First Dose Administered              7621 non-null   float64\n",
      " 6   Second Dose Administered             7621 non-null   float64\n",
      " 7   Male (Doses Administered)            7461 non-null   float64\n",
      " 8   Female (Doses Administered)          7461 non-null   float64\n",
      " 9   Transgender (Doses Administered)     7461 non-null   float64\n",
      " 10   Covaxin (Doses Administered)        7621 non-null   float64\n",
      " 11  CoviShield (Doses Administered)      7621 non-null   float64\n",
      " 12  Sputnik V (Doses Administered)       2995 non-null   float64\n",
      " 13  AEFI                                 5438 non-null   float64\n",
      " 14  18-44 Years (Doses Administered)     1702 non-null   float64\n",
      " 15  45-60 Years (Doses Administered)     1702 non-null   float64\n",
      " 16  60+ Years (Doses Administered)       1702 non-null   float64\n",
      " 17  18-44 Years(Individuals Vaccinated)  3733 non-null   float64\n",
      " 18  45-60 Years(Individuals Vaccinated)  3734 non-null   float64\n",
      " 19  60+ Years(Individuals Vaccinated)    3734 non-null   float64\n",
      " 20  Male(Individuals Vaccinated)         160 non-null    float64\n",
      " 21  Female(Individuals Vaccinated)       160 non-null    float64\n",
      " 22  Transgender(Individuals Vaccinated)  160 non-null    float64\n",
      " 23  Total Individuals Vaccinated         5919 non-null   float64\n",
      "dtypes: float64(22), object(2)\n",
      "memory usage: 1.4+ MB\n"
     ]
    }
   ],
   "source": [
    "vaccine_df.info()"
   ]
  },
  {
   "cell_type": "code",
   "execution_count": 52,
   "id": "28489835",
   "metadata": {},
   "outputs": [
    {
     "data": {
      "text/html": [
       "<div>\n",
       "<style scoped>\n",
       "    .dataframe tbody tr th:only-of-type {\n",
       "        vertical-align: middle;\n",
       "    }\n",
       "\n",
       "    .dataframe tbody tr th {\n",
       "        vertical-align: top;\n",
       "    }\n",
       "\n",
       "    .dataframe thead th {\n",
       "        text-align: right;\n",
       "    }\n",
       "</style>\n",
       "<table border=\"1\" class=\"dataframe\">\n",
       "  <thead>\n",
       "    <tr style=\"text-align: right;\">\n",
       "      <th></th>\n",
       "      <th>Total Doses Administered</th>\n",
       "      <th>Sessions</th>\n",
       "      <th>Sites</th>\n",
       "      <th>First Dose Administered</th>\n",
       "      <th>Second Dose Administered</th>\n",
       "      <th>Male (Doses Administered)</th>\n",
       "      <th>Female (Doses Administered)</th>\n",
       "      <th>Transgender (Doses Administered)</th>\n",
       "      <th>Covaxin (Doses Administered)</th>\n",
       "      <th>CoviShield (Doses Administered)</th>\n",
       "      <th>...</th>\n",
       "      <th>18-44 Years (Doses Administered)</th>\n",
       "      <th>45-60 Years (Doses Administered)</th>\n",
       "      <th>60+ Years (Doses Administered)</th>\n",
       "      <th>18-44 Years(Individuals Vaccinated)</th>\n",
       "      <th>45-60 Years(Individuals Vaccinated)</th>\n",
       "      <th>60+ Years(Individuals Vaccinated)</th>\n",
       "      <th>Male(Individuals Vaccinated)</th>\n",
       "      <th>Female(Individuals Vaccinated)</th>\n",
       "      <th>Transgender(Individuals Vaccinated)</th>\n",
       "      <th>Total Individuals Vaccinated</th>\n",
       "    </tr>\n",
       "  </thead>\n",
       "  <tbody>\n",
       "    <tr>\n",
       "      <th>count</th>\n",
       "      <td>7.621000e+03</td>\n",
       "      <td>7.621000e+03</td>\n",
       "      <td>7621.000000</td>\n",
       "      <td>7.621000e+03</td>\n",
       "      <td>7.621000e+03</td>\n",
       "      <td>7.461000e+03</td>\n",
       "      <td>7.461000e+03</td>\n",
       "      <td>7461.000000</td>\n",
       "      <td>7.621000e+03</td>\n",
       "      <td>7.621000e+03</td>\n",
       "      <td>...</td>\n",
       "      <td>1.702000e+03</td>\n",
       "      <td>1.702000e+03</td>\n",
       "      <td>1.702000e+03</td>\n",
       "      <td>3.733000e+03</td>\n",
       "      <td>3.734000e+03</td>\n",
       "      <td>3.734000e+03</td>\n",
       "      <td>1.600000e+02</td>\n",
       "      <td>1.600000e+02</td>\n",
       "      <td>160.000000</td>\n",
       "      <td>5.919000e+03</td>\n",
       "    </tr>\n",
       "    <tr>\n",
       "      <th>mean</th>\n",
       "      <td>9.188171e+06</td>\n",
       "      <td>4.792358e+05</td>\n",
       "      <td>2282.872064</td>\n",
       "      <td>7.414415e+06</td>\n",
       "      <td>1.773755e+06</td>\n",
       "      <td>3.620156e+06</td>\n",
       "      <td>3.168416e+06</td>\n",
       "      <td>1162.978019</td>\n",
       "      <td>1.044669e+06</td>\n",
       "      <td>8.126553e+06</td>\n",
       "      <td>...</td>\n",
       "      <td>8.773958e+06</td>\n",
       "      <td>7.442161e+06</td>\n",
       "      <td>5.641605e+06</td>\n",
       "      <td>1.395895e+06</td>\n",
       "      <td>2.916515e+06</td>\n",
       "      <td>2.627444e+06</td>\n",
       "      <td>4.461687e+07</td>\n",
       "      <td>3.951018e+07</td>\n",
       "      <td>12370.543750</td>\n",
       "      <td>4.547842e+06</td>\n",
       "    </tr>\n",
       "    <tr>\n",
       "      <th>std</th>\n",
       "      <td>3.746180e+07</td>\n",
       "      <td>1.911511e+06</td>\n",
       "      <td>7275.973730</td>\n",
       "      <td>2.995209e+07</td>\n",
       "      <td>7.570382e+06</td>\n",
       "      <td>1.737938e+07</td>\n",
       "      <td>1.515310e+07</td>\n",
       "      <td>5931.353995</td>\n",
       "      <td>4.452259e+06</td>\n",
       "      <td>3.298414e+07</td>\n",
       "      <td>...</td>\n",
       "      <td>2.660829e+07</td>\n",
       "      <td>2.225999e+07</td>\n",
       "      <td>1.681650e+07</td>\n",
       "      <td>5.501454e+06</td>\n",
       "      <td>9.567607e+06</td>\n",
       "      <td>8.192225e+06</td>\n",
       "      <td>3.950749e+07</td>\n",
       "      <td>3.417684e+07</td>\n",
       "      <td>12485.026753</td>\n",
       "      <td>1.834182e+07</td>\n",
       "    </tr>\n",
       "    <tr>\n",
       "      <th>min</th>\n",
       "      <td>7.000000e+00</td>\n",
       "      <td>0.000000e+00</td>\n",
       "      <td>0.000000</td>\n",
       "      <td>7.000000e+00</td>\n",
       "      <td>0.000000e+00</td>\n",
       "      <td>0.000000e+00</td>\n",
       "      <td>2.000000e+00</td>\n",
       "      <td>0.000000</td>\n",
       "      <td>0.000000e+00</td>\n",
       "      <td>7.000000e+00</td>\n",
       "      <td>...</td>\n",
       "      <td>2.662400e+04</td>\n",
       "      <td>1.681500e+04</td>\n",
       "      <td>9.994000e+03</td>\n",
       "      <td>1.059000e+03</td>\n",
       "      <td>1.136000e+03</td>\n",
       "      <td>5.580000e+02</td>\n",
       "      <td>2.375700e+04</td>\n",
       "      <td>2.451700e+04</td>\n",
       "      <td>2.000000</td>\n",
       "      <td>7.000000e+00</td>\n",
       "    </tr>\n",
       "    <tr>\n",
       "      <th>25%</th>\n",
       "      <td>1.356570e+05</td>\n",
       "      <td>6.004000e+03</td>\n",
       "      <td>69.000000</td>\n",
       "      <td>1.166320e+05</td>\n",
       "      <td>1.283100e+04</td>\n",
       "      <td>5.655500e+04</td>\n",
       "      <td>5.210700e+04</td>\n",
       "      <td>8.000000</td>\n",
       "      <td>0.000000e+00</td>\n",
       "      <td>1.331340e+05</td>\n",
       "      <td>...</td>\n",
       "      <td>4.344842e+05</td>\n",
       "      <td>2.326275e+05</td>\n",
       "      <td>1.285605e+05</td>\n",
       "      <td>5.655400e+04</td>\n",
       "      <td>9.248225e+04</td>\n",
       "      <td>5.615975e+04</td>\n",
       "      <td>5.739350e+06</td>\n",
       "      <td>5.023407e+06</td>\n",
       "      <td>1278.750000</td>\n",
       "      <td>7.427550e+04</td>\n",
       "    </tr>\n",
       "    <tr>\n",
       "      <th>50%</th>\n",
       "      <td>8.182020e+05</td>\n",
       "      <td>4.547000e+04</td>\n",
       "      <td>597.000000</td>\n",
       "      <td>6.614590e+05</td>\n",
       "      <td>1.388180e+05</td>\n",
       "      <td>3.897850e+05</td>\n",
       "      <td>3.342380e+05</td>\n",
       "      <td>113.000000</td>\n",
       "      <td>1.185100e+04</td>\n",
       "      <td>7.567360e+05</td>\n",
       "      <td>...</td>\n",
       "      <td>3.095970e+06</td>\n",
       "      <td>2.695938e+06</td>\n",
       "      <td>1.805696e+06</td>\n",
       "      <td>2.947270e+05</td>\n",
       "      <td>8.330395e+05</td>\n",
       "      <td>7.887425e+05</td>\n",
       "      <td>3.716590e+07</td>\n",
       "      <td>3.365402e+07</td>\n",
       "      <td>8007.500000</td>\n",
       "      <td>4.022880e+05</td>\n",
       "    </tr>\n",
       "    <tr>\n",
       "      <th>75%</th>\n",
       "      <td>6.625243e+06</td>\n",
       "      <td>3.428690e+05</td>\n",
       "      <td>1708.000000</td>\n",
       "      <td>5.387805e+06</td>\n",
       "      <td>1.166434e+06</td>\n",
       "      <td>2.735777e+06</td>\n",
       "      <td>2.561513e+06</td>\n",
       "      <td>800.000000</td>\n",
       "      <td>7.579300e+05</td>\n",
       "      <td>6.007817e+06</td>\n",
       "      <td>...</td>\n",
       "      <td>7.366241e+06</td>\n",
       "      <td>6.969726e+06</td>\n",
       "      <td>5.294763e+06</td>\n",
       "      <td>9.105160e+05</td>\n",
       "      <td>2.499280e+06</td>\n",
       "      <td>2.337874e+06</td>\n",
       "      <td>7.441663e+07</td>\n",
       "      <td>6.685368e+07</td>\n",
       "      <td>19851.000000</td>\n",
       "      <td>3.501562e+06</td>\n",
       "    </tr>\n",
       "    <tr>\n",
       "      <th>max</th>\n",
       "      <td>5.132284e+08</td>\n",
       "      <td>3.501031e+07</td>\n",
       "      <td>73933.000000</td>\n",
       "      <td>4.001504e+08</td>\n",
       "      <td>1.130780e+08</td>\n",
       "      <td>2.701636e+08</td>\n",
       "      <td>2.395186e+08</td>\n",
       "      <td>98275.000000</td>\n",
       "      <td>6.236742e+07</td>\n",
       "      <td>4.468251e+08</td>\n",
       "      <td>...</td>\n",
       "      <td>2.243304e+08</td>\n",
       "      <td>1.667575e+08</td>\n",
       "      <td>1.186927e+08</td>\n",
       "      <td>9.224315e+07</td>\n",
       "      <td>9.096888e+07</td>\n",
       "      <td>6.731098e+07</td>\n",
       "      <td>1.349420e+08</td>\n",
       "      <td>1.156684e+08</td>\n",
       "      <td>46462.000000</td>\n",
       "      <td>2.506569e+08</td>\n",
       "    </tr>\n",
       "  </tbody>\n",
       "</table>\n",
       "<p>8 rows × 22 columns</p>\n",
       "</div>"
      ],
      "text/plain": [
       "       Total Doses Administered      Sessions        Sites   \\\n",
       "count              7.621000e+03  7.621000e+03   7621.000000   \n",
       "mean               9.188171e+06  4.792358e+05   2282.872064   \n",
       "std                3.746180e+07  1.911511e+06   7275.973730   \n",
       "min                7.000000e+00  0.000000e+00      0.000000   \n",
       "25%                1.356570e+05  6.004000e+03     69.000000   \n",
       "50%                8.182020e+05  4.547000e+04    597.000000   \n",
       "75%                6.625243e+06  3.428690e+05   1708.000000   \n",
       "max                5.132284e+08  3.501031e+07  73933.000000   \n",
       "\n",
       "       First Dose Administered  Second Dose Administered  \\\n",
       "count             7.621000e+03              7.621000e+03   \n",
       "mean              7.414415e+06              1.773755e+06   \n",
       "std               2.995209e+07              7.570382e+06   \n",
       "min               7.000000e+00              0.000000e+00   \n",
       "25%               1.166320e+05              1.283100e+04   \n",
       "50%               6.614590e+05              1.388180e+05   \n",
       "75%               5.387805e+06              1.166434e+06   \n",
       "max               4.001504e+08              1.130780e+08   \n",
       "\n",
       "       Male (Doses Administered)  Female (Doses Administered)  \\\n",
       "count               7.461000e+03                 7.461000e+03   \n",
       "mean                3.620156e+06                 3.168416e+06   \n",
       "std                 1.737938e+07                 1.515310e+07   \n",
       "min                 0.000000e+00                 2.000000e+00   \n",
       "25%                 5.655500e+04                 5.210700e+04   \n",
       "50%                 3.897850e+05                 3.342380e+05   \n",
       "75%                 2.735777e+06                 2.561513e+06   \n",
       "max                 2.701636e+08                 2.395186e+08   \n",
       "\n",
       "       Transgender (Doses Administered)   Covaxin (Doses Administered)  \\\n",
       "count                       7461.000000                   7.621000e+03   \n",
       "mean                        1162.978019                   1.044669e+06   \n",
       "std                         5931.353995                   4.452259e+06   \n",
       "min                            0.000000                   0.000000e+00   \n",
       "25%                            8.000000                   0.000000e+00   \n",
       "50%                          113.000000                   1.185100e+04   \n",
       "75%                          800.000000                   7.579300e+05   \n",
       "max                        98275.000000                   6.236742e+07   \n",
       "\n",
       "       CoviShield (Doses Administered)  ...  18-44 Years (Doses Administered)  \\\n",
       "count                     7.621000e+03  ...                      1.702000e+03   \n",
       "mean                      8.126553e+06  ...                      8.773958e+06   \n",
       "std                       3.298414e+07  ...                      2.660829e+07   \n",
       "min                       7.000000e+00  ...                      2.662400e+04   \n",
       "25%                       1.331340e+05  ...                      4.344842e+05   \n",
       "50%                       7.567360e+05  ...                      3.095970e+06   \n",
       "75%                       6.007817e+06  ...                      7.366241e+06   \n",
       "max                       4.468251e+08  ...                      2.243304e+08   \n",
       "\n",
       "       45-60 Years (Doses Administered)  60+ Years (Doses Administered)  \\\n",
       "count                      1.702000e+03                    1.702000e+03   \n",
       "mean                       7.442161e+06                    5.641605e+06   \n",
       "std                        2.225999e+07                    1.681650e+07   \n",
       "min                        1.681500e+04                    9.994000e+03   \n",
       "25%                        2.326275e+05                    1.285605e+05   \n",
       "50%                        2.695938e+06                    1.805696e+06   \n",
       "75%                        6.969726e+06                    5.294763e+06   \n",
       "max                        1.667575e+08                    1.186927e+08   \n",
       "\n",
       "       18-44 Years(Individuals Vaccinated)  \\\n",
       "count                         3.733000e+03   \n",
       "mean                          1.395895e+06   \n",
       "std                           5.501454e+06   \n",
       "min                           1.059000e+03   \n",
       "25%                           5.655400e+04   \n",
       "50%                           2.947270e+05   \n",
       "75%                           9.105160e+05   \n",
       "max                           9.224315e+07   \n",
       "\n",
       "       45-60 Years(Individuals Vaccinated)  60+ Years(Individuals Vaccinated)  \\\n",
       "count                         3.734000e+03                       3.734000e+03   \n",
       "mean                          2.916515e+06                       2.627444e+06   \n",
       "std                           9.567607e+06                       8.192225e+06   \n",
       "min                           1.136000e+03                       5.580000e+02   \n",
       "25%                           9.248225e+04                       5.615975e+04   \n",
       "50%                           8.330395e+05                       7.887425e+05   \n",
       "75%                           2.499280e+06                       2.337874e+06   \n",
       "max                           9.096888e+07                       6.731098e+07   \n",
       "\n",
       "       Male(Individuals Vaccinated)  Female(Individuals Vaccinated)  \\\n",
       "count                  1.600000e+02                    1.600000e+02   \n",
       "mean                   4.461687e+07                    3.951018e+07   \n",
       "std                    3.950749e+07                    3.417684e+07   \n",
       "min                    2.375700e+04                    2.451700e+04   \n",
       "25%                    5.739350e+06                    5.023407e+06   \n",
       "50%                    3.716590e+07                    3.365402e+07   \n",
       "75%                    7.441663e+07                    6.685368e+07   \n",
       "max                    1.349420e+08                    1.156684e+08   \n",
       "\n",
       "       Transgender(Individuals Vaccinated)  Total Individuals Vaccinated  \n",
       "count                           160.000000                  5.919000e+03  \n",
       "mean                          12370.543750                  4.547842e+06  \n",
       "std                           12485.026753                  1.834182e+07  \n",
       "min                               2.000000                  7.000000e+00  \n",
       "25%                            1278.750000                  7.427550e+04  \n",
       "50%                            8007.500000                  4.022880e+05  \n",
       "75%                           19851.000000                  3.501562e+06  \n",
       "max                           46462.000000                  2.506569e+08  \n",
       "\n",
       "[8 rows x 22 columns]"
      ]
     },
     "execution_count": 52,
     "metadata": {},
     "output_type": "execute_result"
    }
   ],
   "source": [
    "vaccine_df.describe()"
   ]
  },
  {
   "cell_type": "code",
   "execution_count": 53,
   "id": "59754ac9",
   "metadata": {},
   "outputs": [
    {
     "data": {
      "text/plain": [
       "Vaccine_Date                              0\n",
       "State                                     0\n",
       "Total Doses Administered                224\n",
       "Sessions                                224\n",
       " Sites                                  224\n",
       "First Dose Administered                 224\n",
       "Second Dose Administered                224\n",
       "Male (Doses Administered)               384\n",
       "Female (Doses Administered)             384\n",
       "Transgender (Doses Administered)        384\n",
       " Covaxin (Doses Administered)           224\n",
       "CoviShield (Doses Administered)         224\n",
       "Sputnik V (Doses Administered)         4850\n",
       "AEFI                                   2407\n",
       "18-44 Years (Doses Administered)       6143\n",
       "45-60 Years (Doses Administered)       6143\n",
       "60+ Years (Doses Administered)         6143\n",
       "18-44 Years(Individuals Vaccinated)    4112\n",
       "45-60 Years(Individuals Vaccinated)    4111\n",
       "60+ Years(Individuals Vaccinated)      4111\n",
       "Male(Individuals Vaccinated)           7685\n",
       "Female(Individuals Vaccinated)         7685\n",
       "Transgender(Individuals Vaccinated)    7685\n",
       "Total Individuals Vaccinated           1926\n",
       "dtype: int64"
      ]
     },
     "execution_count": 53,
     "metadata": {},
     "output_type": "execute_result"
    }
   ],
   "source": [
    "vaccine_df.isnull().sum()"
   ]
  },
  {
   "cell_type": "code",
   "execution_count": 54,
   "id": "f1f81158",
   "metadata": {},
   "outputs": [],
   "source": [
    "#Droping the vaccine dataset columns\n",
    "vaccination=vaccine_df.drop(columns=[\"Sputnik V (Doses Administered)\",\"AEFI\",\"18-44 Years (Doses Administered)\",\"45-60 Years (Doses Administered)\",\"60+ Years (Doses Administered)\"],axis=1)"
   ]
  },
  {
   "cell_type": "code",
   "execution_count": 55,
   "id": "2f126a96",
   "metadata": {},
   "outputs": [
    {
     "data": {
      "text/html": [
       "<div>\n",
       "<style scoped>\n",
       "    .dataframe tbody tr th:only-of-type {\n",
       "        vertical-align: middle;\n",
       "    }\n",
       "\n",
       "    .dataframe tbody tr th {\n",
       "        vertical-align: top;\n",
       "    }\n",
       "\n",
       "    .dataframe thead th {\n",
       "        text-align: right;\n",
       "    }\n",
       "</style>\n",
       "<table border=\"1\" class=\"dataframe\">\n",
       "  <thead>\n",
       "    <tr style=\"text-align: right;\">\n",
       "      <th></th>\n",
       "      <th>Vaccine_Date</th>\n",
       "      <th>State</th>\n",
       "      <th>Total Doses Administered</th>\n",
       "      <th>Sessions</th>\n",
       "      <th>Sites</th>\n",
       "      <th>First Dose Administered</th>\n",
       "      <th>Second Dose Administered</th>\n",
       "      <th>Male (Doses Administered)</th>\n",
       "      <th>Female (Doses Administered)</th>\n",
       "      <th>Transgender (Doses Administered)</th>\n",
       "      <th>Covaxin (Doses Administered)</th>\n",
       "      <th>CoviShield (Doses Administered)</th>\n",
       "      <th>18-44 Years(Individuals Vaccinated)</th>\n",
       "      <th>45-60 Years(Individuals Vaccinated)</th>\n",
       "      <th>60+ Years(Individuals Vaccinated)</th>\n",
       "      <th>Male(Individuals Vaccinated)</th>\n",
       "      <th>Female(Individuals Vaccinated)</th>\n",
       "      <th>Transgender(Individuals Vaccinated)</th>\n",
       "      <th>Total Individuals Vaccinated</th>\n",
       "    </tr>\n",
       "  </thead>\n",
       "  <tbody>\n",
       "    <tr>\n",
       "      <th>0</th>\n",
       "      <td>16/01/2021</td>\n",
       "      <td>India</td>\n",
       "      <td>48276.0</td>\n",
       "      <td>3455.0</td>\n",
       "      <td>2957.0</td>\n",
       "      <td>48276.0</td>\n",
       "      <td>0.0</td>\n",
       "      <td>NaN</td>\n",
       "      <td>NaN</td>\n",
       "      <td>NaN</td>\n",
       "      <td>579.0</td>\n",
       "      <td>47697.0</td>\n",
       "      <td>NaN</td>\n",
       "      <td>NaN</td>\n",
       "      <td>NaN</td>\n",
       "      <td>23757.0</td>\n",
       "      <td>24517.0</td>\n",
       "      <td>2.0</td>\n",
       "      <td>48276.0</td>\n",
       "    </tr>\n",
       "    <tr>\n",
       "      <th>1</th>\n",
       "      <td>17/01/2021</td>\n",
       "      <td>India</td>\n",
       "      <td>58604.0</td>\n",
       "      <td>8532.0</td>\n",
       "      <td>4954.0</td>\n",
       "      <td>58604.0</td>\n",
       "      <td>0.0</td>\n",
       "      <td>NaN</td>\n",
       "      <td>NaN</td>\n",
       "      <td>NaN</td>\n",
       "      <td>635.0</td>\n",
       "      <td>57969.0</td>\n",
       "      <td>NaN</td>\n",
       "      <td>NaN</td>\n",
       "      <td>NaN</td>\n",
       "      <td>27348.0</td>\n",
       "      <td>31252.0</td>\n",
       "      <td>4.0</td>\n",
       "      <td>58604.0</td>\n",
       "    </tr>\n",
       "    <tr>\n",
       "      <th>2</th>\n",
       "      <td>18/01/2021</td>\n",
       "      <td>India</td>\n",
       "      <td>99449.0</td>\n",
       "      <td>13611.0</td>\n",
       "      <td>6583.0</td>\n",
       "      <td>99449.0</td>\n",
       "      <td>0.0</td>\n",
       "      <td>NaN</td>\n",
       "      <td>NaN</td>\n",
       "      <td>NaN</td>\n",
       "      <td>1299.0</td>\n",
       "      <td>98150.0</td>\n",
       "      <td>NaN</td>\n",
       "      <td>NaN</td>\n",
       "      <td>NaN</td>\n",
       "      <td>41361.0</td>\n",
       "      <td>58083.0</td>\n",
       "      <td>5.0</td>\n",
       "      <td>99449.0</td>\n",
       "    </tr>\n",
       "    <tr>\n",
       "      <th>3</th>\n",
       "      <td>19/01/2021</td>\n",
       "      <td>India</td>\n",
       "      <td>195525.0</td>\n",
       "      <td>17855.0</td>\n",
       "      <td>7951.0</td>\n",
       "      <td>195525.0</td>\n",
       "      <td>0.0</td>\n",
       "      <td>NaN</td>\n",
       "      <td>NaN</td>\n",
       "      <td>NaN</td>\n",
       "      <td>3017.0</td>\n",
       "      <td>192508.0</td>\n",
       "      <td>NaN</td>\n",
       "      <td>NaN</td>\n",
       "      <td>NaN</td>\n",
       "      <td>81901.0</td>\n",
       "      <td>113613.0</td>\n",
       "      <td>11.0</td>\n",
       "      <td>195525.0</td>\n",
       "    </tr>\n",
       "    <tr>\n",
       "      <th>4</th>\n",
       "      <td>20/01/2021</td>\n",
       "      <td>India</td>\n",
       "      <td>251280.0</td>\n",
       "      <td>25472.0</td>\n",
       "      <td>10504.0</td>\n",
       "      <td>251280.0</td>\n",
       "      <td>0.0</td>\n",
       "      <td>NaN</td>\n",
       "      <td>NaN</td>\n",
       "      <td>NaN</td>\n",
       "      <td>3946.0</td>\n",
       "      <td>247334.0</td>\n",
       "      <td>NaN</td>\n",
       "      <td>NaN</td>\n",
       "      <td>NaN</td>\n",
       "      <td>98111.0</td>\n",
       "      <td>153145.0</td>\n",
       "      <td>24.0</td>\n",
       "      <td>251280.0</td>\n",
       "    </tr>\n",
       "  </tbody>\n",
       "</table>\n",
       "</div>"
      ],
      "text/plain": [
       "  Vaccine_Date  State  Total Doses Administered  Sessions   Sites   \\\n",
       "0   16/01/2021  India                   48276.0    3455.0   2957.0   \n",
       "1   17/01/2021  India                   58604.0    8532.0   4954.0   \n",
       "2   18/01/2021  India                   99449.0   13611.0   6583.0   \n",
       "3   19/01/2021  India                  195525.0   17855.0   7951.0   \n",
       "4   20/01/2021  India                  251280.0   25472.0  10504.0   \n",
       "\n",
       "   First Dose Administered  Second Dose Administered  \\\n",
       "0                  48276.0                       0.0   \n",
       "1                  58604.0                       0.0   \n",
       "2                  99449.0                       0.0   \n",
       "3                 195525.0                       0.0   \n",
       "4                 251280.0                       0.0   \n",
       "\n",
       "   Male (Doses Administered)  Female (Doses Administered)  \\\n",
       "0                        NaN                          NaN   \n",
       "1                        NaN                          NaN   \n",
       "2                        NaN                          NaN   \n",
       "3                        NaN                          NaN   \n",
       "4                        NaN                          NaN   \n",
       "\n",
       "   Transgender (Doses Administered)   Covaxin (Doses Administered)  \\\n",
       "0                               NaN                          579.0   \n",
       "1                               NaN                          635.0   \n",
       "2                               NaN                         1299.0   \n",
       "3                               NaN                         3017.0   \n",
       "4                               NaN                         3946.0   \n",
       "\n",
       "   CoviShield (Doses Administered)  18-44 Years(Individuals Vaccinated)  \\\n",
       "0                          47697.0                                  NaN   \n",
       "1                          57969.0                                  NaN   \n",
       "2                          98150.0                                  NaN   \n",
       "3                         192508.0                                  NaN   \n",
       "4                         247334.0                                  NaN   \n",
       "\n",
       "   45-60 Years(Individuals Vaccinated)  60+ Years(Individuals Vaccinated)  \\\n",
       "0                                  NaN                                NaN   \n",
       "1                                  NaN                                NaN   \n",
       "2                                  NaN                                NaN   \n",
       "3                                  NaN                                NaN   \n",
       "4                                  NaN                                NaN   \n",
       "\n",
       "   Male(Individuals Vaccinated)  Female(Individuals Vaccinated)  \\\n",
       "0                       23757.0                         24517.0   \n",
       "1                       27348.0                         31252.0   \n",
       "2                       41361.0                         58083.0   \n",
       "3                       81901.0                        113613.0   \n",
       "4                       98111.0                        153145.0   \n",
       "\n",
       "   Transgender(Individuals Vaccinated)  Total Individuals Vaccinated  \n",
       "0                                  2.0                       48276.0  \n",
       "1                                  4.0                       58604.0  \n",
       "2                                  5.0                       99449.0  \n",
       "3                                 11.0                      195525.0  \n",
       "4                                 24.0                      251280.0  "
      ]
     },
     "execution_count": 55,
     "metadata": {},
     "output_type": "execute_result"
    }
   ],
   "source": [
    "vaccination.head()"
   ]
  },
  {
   "cell_type": "code",
   "execution_count": 58,
   "id": "cf774a88",
   "metadata": {},
   "outputs": [
    {
     "data": {
      "application/vnd.plotly.v1+json": {
       "config": {
        "plotlyServerURL": "https://plot.ly"
       },
       "data": [
        {
         "domain": {
          "x": [
           0,
           1
          ],
          "y": [
           0,
           1
          ]
         },
         "hovertemplate": "label=%{label}<br>value=%{value}<extra></extra>",
         "labels": [
          "Male",
          "Female"
         ],
         "legendgroup": "",
         "name": "",
         "showlegend": true,
         "type": "pie",
         "values": [
          7138698858,
          6321628736
         ]
        }
       ],
       "layout": {
        "legend": {
         "tracegroupgap": 0
        },
        "template": {
         "data": {
          "bar": [
           {
            "error_x": {
             "color": "#2a3f5f"
            },
            "error_y": {
             "color": "#2a3f5f"
            },
            "marker": {
             "line": {
              "color": "#E5ECF6",
              "width": 0.5
             },
             "pattern": {
              "fillmode": "overlay",
              "size": 10,
              "solidity": 0.2
             }
            },
            "type": "bar"
           }
          ],
          "barpolar": [
           {
            "marker": {
             "line": {
              "color": "#E5ECF6",
              "width": 0.5
             },
             "pattern": {
              "fillmode": "overlay",
              "size": 10,
              "solidity": 0.2
             }
            },
            "type": "barpolar"
           }
          ],
          "carpet": [
           {
            "aaxis": {
             "endlinecolor": "#2a3f5f",
             "gridcolor": "white",
             "linecolor": "white",
             "minorgridcolor": "white",
             "startlinecolor": "#2a3f5f"
            },
            "baxis": {
             "endlinecolor": "#2a3f5f",
             "gridcolor": "white",
             "linecolor": "white",
             "minorgridcolor": "white",
             "startlinecolor": "#2a3f5f"
            },
            "type": "carpet"
           }
          ],
          "choropleth": [
           {
            "colorbar": {
             "outlinewidth": 0,
             "ticks": ""
            },
            "type": "choropleth"
           }
          ],
          "contour": [
           {
            "colorbar": {
             "outlinewidth": 0,
             "ticks": ""
            },
            "colorscale": [
             [
              0,
              "#0d0887"
             ],
             [
              0.1111111111111111,
              "#46039f"
             ],
             [
              0.2222222222222222,
              "#7201a8"
             ],
             [
              0.3333333333333333,
              "#9c179e"
             ],
             [
              0.4444444444444444,
              "#bd3786"
             ],
             [
              0.5555555555555556,
              "#d8576b"
             ],
             [
              0.6666666666666666,
              "#ed7953"
             ],
             [
              0.7777777777777778,
              "#fb9f3a"
             ],
             [
              0.8888888888888888,
              "#fdca26"
             ],
             [
              1,
              "#f0f921"
             ]
            ],
            "type": "contour"
           }
          ],
          "contourcarpet": [
           {
            "colorbar": {
             "outlinewidth": 0,
             "ticks": ""
            },
            "type": "contourcarpet"
           }
          ],
          "heatmap": [
           {
            "colorbar": {
             "outlinewidth": 0,
             "ticks": ""
            },
            "colorscale": [
             [
              0,
              "#0d0887"
             ],
             [
              0.1111111111111111,
              "#46039f"
             ],
             [
              0.2222222222222222,
              "#7201a8"
             ],
             [
              0.3333333333333333,
              "#9c179e"
             ],
             [
              0.4444444444444444,
              "#bd3786"
             ],
             [
              0.5555555555555556,
              "#d8576b"
             ],
             [
              0.6666666666666666,
              "#ed7953"
             ],
             [
              0.7777777777777778,
              "#fb9f3a"
             ],
             [
              0.8888888888888888,
              "#fdca26"
             ],
             [
              1,
              "#f0f921"
             ]
            ],
            "type": "heatmap"
           }
          ],
          "heatmapgl": [
           {
            "colorbar": {
             "outlinewidth": 0,
             "ticks": ""
            },
            "colorscale": [
             [
              0,
              "#0d0887"
             ],
             [
              0.1111111111111111,
              "#46039f"
             ],
             [
              0.2222222222222222,
              "#7201a8"
             ],
             [
              0.3333333333333333,
              "#9c179e"
             ],
             [
              0.4444444444444444,
              "#bd3786"
             ],
             [
              0.5555555555555556,
              "#d8576b"
             ],
             [
              0.6666666666666666,
              "#ed7953"
             ],
             [
              0.7777777777777778,
              "#fb9f3a"
             ],
             [
              0.8888888888888888,
              "#fdca26"
             ],
             [
              1,
              "#f0f921"
             ]
            ],
            "type": "heatmapgl"
           }
          ],
          "histogram": [
           {
            "marker": {
             "pattern": {
              "fillmode": "overlay",
              "size": 10,
              "solidity": 0.2
             }
            },
            "type": "histogram"
           }
          ],
          "histogram2d": [
           {
            "colorbar": {
             "outlinewidth": 0,
             "ticks": ""
            },
            "colorscale": [
             [
              0,
              "#0d0887"
             ],
             [
              0.1111111111111111,
              "#46039f"
             ],
             [
              0.2222222222222222,
              "#7201a8"
             ],
             [
              0.3333333333333333,
              "#9c179e"
             ],
             [
              0.4444444444444444,
              "#bd3786"
             ],
             [
              0.5555555555555556,
              "#d8576b"
             ],
             [
              0.6666666666666666,
              "#ed7953"
             ],
             [
              0.7777777777777778,
              "#fb9f3a"
             ],
             [
              0.8888888888888888,
              "#fdca26"
             ],
             [
              1,
              "#f0f921"
             ]
            ],
            "type": "histogram2d"
           }
          ],
          "histogram2dcontour": [
           {
            "colorbar": {
             "outlinewidth": 0,
             "ticks": ""
            },
            "colorscale": [
             [
              0,
              "#0d0887"
             ],
             [
              0.1111111111111111,
              "#46039f"
             ],
             [
              0.2222222222222222,
              "#7201a8"
             ],
             [
              0.3333333333333333,
              "#9c179e"
             ],
             [
              0.4444444444444444,
              "#bd3786"
             ],
             [
              0.5555555555555556,
              "#d8576b"
             ],
             [
              0.6666666666666666,
              "#ed7953"
             ],
             [
              0.7777777777777778,
              "#fb9f3a"
             ],
             [
              0.8888888888888888,
              "#fdca26"
             ],
             [
              1,
              "#f0f921"
             ]
            ],
            "type": "histogram2dcontour"
           }
          ],
          "mesh3d": [
           {
            "colorbar": {
             "outlinewidth": 0,
             "ticks": ""
            },
            "type": "mesh3d"
           }
          ],
          "parcoords": [
           {
            "line": {
             "colorbar": {
              "outlinewidth": 0,
              "ticks": ""
             }
            },
            "type": "parcoords"
           }
          ],
          "pie": [
           {
            "automargin": true,
            "type": "pie"
           }
          ],
          "scatter": [
           {
            "fillpattern": {
             "fillmode": "overlay",
             "size": 10,
             "solidity": 0.2
            },
            "type": "scatter"
           }
          ],
          "scatter3d": [
           {
            "line": {
             "colorbar": {
              "outlinewidth": 0,
              "ticks": ""
             }
            },
            "marker": {
             "colorbar": {
              "outlinewidth": 0,
              "ticks": ""
             }
            },
            "type": "scatter3d"
           }
          ],
          "scattercarpet": [
           {
            "marker": {
             "colorbar": {
              "outlinewidth": 0,
              "ticks": ""
             }
            },
            "type": "scattercarpet"
           }
          ],
          "scattergeo": [
           {
            "marker": {
             "colorbar": {
              "outlinewidth": 0,
              "ticks": ""
             }
            },
            "type": "scattergeo"
           }
          ],
          "scattergl": [
           {
            "marker": {
             "colorbar": {
              "outlinewidth": 0,
              "ticks": ""
             }
            },
            "type": "scattergl"
           }
          ],
          "scattermapbox": [
           {
            "marker": {
             "colorbar": {
              "outlinewidth": 0,
              "ticks": ""
             }
            },
            "type": "scattermapbox"
           }
          ],
          "scatterpolar": [
           {
            "marker": {
             "colorbar": {
              "outlinewidth": 0,
              "ticks": ""
             }
            },
            "type": "scatterpolar"
           }
          ],
          "scatterpolargl": [
           {
            "marker": {
             "colorbar": {
              "outlinewidth": 0,
              "ticks": ""
             }
            },
            "type": "scatterpolargl"
           }
          ],
          "scatterternary": [
           {
            "marker": {
             "colorbar": {
              "outlinewidth": 0,
              "ticks": ""
             }
            },
            "type": "scatterternary"
           }
          ],
          "surface": [
           {
            "colorbar": {
             "outlinewidth": 0,
             "ticks": ""
            },
            "colorscale": [
             [
              0,
              "#0d0887"
             ],
             [
              0.1111111111111111,
              "#46039f"
             ],
             [
              0.2222222222222222,
              "#7201a8"
             ],
             [
              0.3333333333333333,
              "#9c179e"
             ],
             [
              0.4444444444444444,
              "#bd3786"
             ],
             [
              0.5555555555555556,
              "#d8576b"
             ],
             [
              0.6666666666666666,
              "#ed7953"
             ],
             [
              0.7777777777777778,
              "#fb9f3a"
             ],
             [
              0.8888888888888888,
              "#fdca26"
             ],
             [
              1,
              "#f0f921"
             ]
            ],
            "type": "surface"
           }
          ],
          "table": [
           {
            "cells": {
             "fill": {
              "color": "#EBF0F8"
             },
             "line": {
              "color": "white"
             }
            },
            "header": {
             "fill": {
              "color": "#C8D4E3"
             },
             "line": {
              "color": "white"
             }
            },
            "type": "table"
           }
          ]
         },
         "layout": {
          "annotationdefaults": {
           "arrowcolor": "#2a3f5f",
           "arrowhead": 0,
           "arrowwidth": 1
          },
          "autotypenumbers": "strict",
          "coloraxis": {
           "colorbar": {
            "outlinewidth": 0,
            "ticks": ""
           }
          },
          "colorscale": {
           "diverging": [
            [
             0,
             "#8e0152"
            ],
            [
             0.1,
             "#c51b7d"
            ],
            [
             0.2,
             "#de77ae"
            ],
            [
             0.3,
             "#f1b6da"
            ],
            [
             0.4,
             "#fde0ef"
            ],
            [
             0.5,
             "#f7f7f7"
            ],
            [
             0.6,
             "#e6f5d0"
            ],
            [
             0.7,
             "#b8e186"
            ],
            [
             0.8,
             "#7fbc41"
            ],
            [
             0.9,
             "#4d9221"
            ],
            [
             1,
             "#276419"
            ]
           ],
           "sequential": [
            [
             0,
             "#0d0887"
            ],
            [
             0.1111111111111111,
             "#46039f"
            ],
            [
             0.2222222222222222,
             "#7201a8"
            ],
            [
             0.3333333333333333,
             "#9c179e"
            ],
            [
             0.4444444444444444,
             "#bd3786"
            ],
            [
             0.5555555555555556,
             "#d8576b"
            ],
            [
             0.6666666666666666,
             "#ed7953"
            ],
            [
             0.7777777777777778,
             "#fb9f3a"
            ],
            [
             0.8888888888888888,
             "#fdca26"
            ],
            [
             1,
             "#f0f921"
            ]
           ],
           "sequentialminus": [
            [
             0,
             "#0d0887"
            ],
            [
             0.1111111111111111,
             "#46039f"
            ],
            [
             0.2222222222222222,
             "#7201a8"
            ],
            [
             0.3333333333333333,
             "#9c179e"
            ],
            [
             0.4444444444444444,
             "#bd3786"
            ],
            [
             0.5555555555555556,
             "#d8576b"
            ],
            [
             0.6666666666666666,
             "#ed7953"
            ],
            [
             0.7777777777777778,
             "#fb9f3a"
            ],
            [
             0.8888888888888888,
             "#fdca26"
            ],
            [
             1,
             "#f0f921"
            ]
           ]
          },
          "colorway": [
           "#636efa",
           "#EF553B",
           "#00cc96",
           "#ab63fa",
           "#FFA15A",
           "#19d3f3",
           "#FF6692",
           "#B6E880",
           "#FF97FF",
           "#FECB52"
          ],
          "font": {
           "color": "#2a3f5f"
          },
          "geo": {
           "bgcolor": "white",
           "lakecolor": "white",
           "landcolor": "#E5ECF6",
           "showlakes": true,
           "showland": true,
           "subunitcolor": "white"
          },
          "hoverlabel": {
           "align": "left"
          },
          "hovermode": "closest",
          "mapbox": {
           "style": "light"
          },
          "paper_bgcolor": "white",
          "plot_bgcolor": "#E5ECF6",
          "polar": {
           "angularaxis": {
            "gridcolor": "white",
            "linecolor": "white",
            "ticks": ""
           },
           "bgcolor": "#E5ECF6",
           "radialaxis": {
            "gridcolor": "white",
            "linecolor": "white",
            "ticks": ""
           }
          },
          "scene": {
           "xaxis": {
            "backgroundcolor": "#E5ECF6",
            "gridcolor": "white",
            "gridwidth": 2,
            "linecolor": "white",
            "showbackground": true,
            "ticks": "",
            "zerolinecolor": "white"
           },
           "yaxis": {
            "backgroundcolor": "#E5ECF6",
            "gridcolor": "white",
            "gridwidth": 2,
            "linecolor": "white",
            "showbackground": true,
            "ticks": "",
            "zerolinecolor": "white"
           },
           "zaxis": {
            "backgroundcolor": "#E5ECF6",
            "gridcolor": "white",
            "gridwidth": 2,
            "linecolor": "white",
            "showbackground": true,
            "ticks": "",
            "zerolinecolor": "white"
           }
          },
          "shapedefaults": {
           "line": {
            "color": "#2a3f5f"
           }
          },
          "ternary": {
           "aaxis": {
            "gridcolor": "white",
            "linecolor": "white",
            "ticks": ""
           },
           "baxis": {
            "gridcolor": "white",
            "linecolor": "white",
            "ticks": ""
           },
           "bgcolor": "#E5ECF6",
           "caxis": {
            "gridcolor": "white",
            "linecolor": "white",
            "ticks": ""
           }
          },
          "title": {
           "x": 0.05
          },
          "xaxis": {
           "automargin": true,
           "gridcolor": "white",
           "linecolor": "white",
           "ticks": "",
           "title": {
            "standoff": 15
           },
           "zerolinecolor": "white",
           "zerolinewidth": 2
          },
          "yaxis": {
           "automargin": true,
           "gridcolor": "white",
           "linecolor": "white",
           "ticks": "",
           "title": {
            "standoff": 15
           },
           "zerolinecolor": "white",
           "zerolinewidth": 2
          }
         }
        },
        "title": {
         "text": "Male and female Vaccination"
        }
       }
      },
      "text/html": [
       "<div>                            <div id=\"312b99a4-8451-452b-83c0-8d10ed92e977\" class=\"plotly-graph-div\" style=\"height:525px; width:100%;\"></div>            <script type=\"text/javascript\">                require([\"plotly\"], function(Plotly) {                    window.PLOTLYENV=window.PLOTLYENV || {};                                    if (document.getElementById(\"312b99a4-8451-452b-83c0-8d10ed92e977\")) {                    Plotly.newPlot(                        \"312b99a4-8451-452b-83c0-8d10ed92e977\",                        [{\"domain\":{\"x\":[0.0,1.0],\"y\":[0.0,1.0]},\"hovertemplate\":\"label=%{label}<br>value=%{value}<extra></extra>\",\"labels\":[\"Male\",\"Female\"],\"legendgroup\":\"\",\"name\":\"\",\"showlegend\":true,\"values\":[7138698858.0,6321628736.0],\"type\":\"pie\"}],                        {\"template\":{\"data\":{\"histogram2dcontour\":[{\"type\":\"histogram2dcontour\",\"colorbar\":{\"outlinewidth\":0,\"ticks\":\"\"},\"colorscale\":[[0.0,\"#0d0887\"],[0.1111111111111111,\"#46039f\"],[0.2222222222222222,\"#7201a8\"],[0.3333333333333333,\"#9c179e\"],[0.4444444444444444,\"#bd3786\"],[0.5555555555555556,\"#d8576b\"],[0.6666666666666666,\"#ed7953\"],[0.7777777777777778,\"#fb9f3a\"],[0.8888888888888888,\"#fdca26\"],[1.0,\"#f0f921\"]]}],\"choropleth\":[{\"type\":\"choropleth\",\"colorbar\":{\"outlinewidth\":0,\"ticks\":\"\"}}],\"histogram2d\":[{\"type\":\"histogram2d\",\"colorbar\":{\"outlinewidth\":0,\"ticks\":\"\"},\"colorscale\":[[0.0,\"#0d0887\"],[0.1111111111111111,\"#46039f\"],[0.2222222222222222,\"#7201a8\"],[0.3333333333333333,\"#9c179e\"],[0.4444444444444444,\"#bd3786\"],[0.5555555555555556,\"#d8576b\"],[0.6666666666666666,\"#ed7953\"],[0.7777777777777778,\"#fb9f3a\"],[0.8888888888888888,\"#fdca26\"],[1.0,\"#f0f921\"]]}],\"heatmap\":[{\"type\":\"heatmap\",\"colorbar\":{\"outlinewidth\":0,\"ticks\":\"\"},\"colorscale\":[[0.0,\"#0d0887\"],[0.1111111111111111,\"#46039f\"],[0.2222222222222222,\"#7201a8\"],[0.3333333333333333,\"#9c179e\"],[0.4444444444444444,\"#bd3786\"],[0.5555555555555556,\"#d8576b\"],[0.6666666666666666,\"#ed7953\"],[0.7777777777777778,\"#fb9f3a\"],[0.8888888888888888,\"#fdca26\"],[1.0,\"#f0f921\"]]}],\"heatmapgl\":[{\"type\":\"heatmapgl\",\"colorbar\":{\"outlinewidth\":0,\"ticks\":\"\"},\"colorscale\":[[0.0,\"#0d0887\"],[0.1111111111111111,\"#46039f\"],[0.2222222222222222,\"#7201a8\"],[0.3333333333333333,\"#9c179e\"],[0.4444444444444444,\"#bd3786\"],[0.5555555555555556,\"#d8576b\"],[0.6666666666666666,\"#ed7953\"],[0.7777777777777778,\"#fb9f3a\"],[0.8888888888888888,\"#fdca26\"],[1.0,\"#f0f921\"]]}],\"contourcarpet\":[{\"type\":\"contourcarpet\",\"colorbar\":{\"outlinewidth\":0,\"ticks\":\"\"}}],\"contour\":[{\"type\":\"contour\",\"colorbar\":{\"outlinewidth\":0,\"ticks\":\"\"},\"colorscale\":[[0.0,\"#0d0887\"],[0.1111111111111111,\"#46039f\"],[0.2222222222222222,\"#7201a8\"],[0.3333333333333333,\"#9c179e\"],[0.4444444444444444,\"#bd3786\"],[0.5555555555555556,\"#d8576b\"],[0.6666666666666666,\"#ed7953\"],[0.7777777777777778,\"#fb9f3a\"],[0.8888888888888888,\"#fdca26\"],[1.0,\"#f0f921\"]]}],\"surface\":[{\"type\":\"surface\",\"colorbar\":{\"outlinewidth\":0,\"ticks\":\"\"},\"colorscale\":[[0.0,\"#0d0887\"],[0.1111111111111111,\"#46039f\"],[0.2222222222222222,\"#7201a8\"],[0.3333333333333333,\"#9c179e\"],[0.4444444444444444,\"#bd3786\"],[0.5555555555555556,\"#d8576b\"],[0.6666666666666666,\"#ed7953\"],[0.7777777777777778,\"#fb9f3a\"],[0.8888888888888888,\"#fdca26\"],[1.0,\"#f0f921\"]]}],\"mesh3d\":[{\"type\":\"mesh3d\",\"colorbar\":{\"outlinewidth\":0,\"ticks\":\"\"}}],\"scatter\":[{\"fillpattern\":{\"fillmode\":\"overlay\",\"size\":10,\"solidity\":0.2},\"type\":\"scatter\"}],\"parcoords\":[{\"type\":\"parcoords\",\"line\":{\"colorbar\":{\"outlinewidth\":0,\"ticks\":\"\"}}}],\"scatterpolargl\":[{\"type\":\"scatterpolargl\",\"marker\":{\"colorbar\":{\"outlinewidth\":0,\"ticks\":\"\"}}}],\"bar\":[{\"error_x\":{\"color\":\"#2a3f5f\"},\"error_y\":{\"color\":\"#2a3f5f\"},\"marker\":{\"line\":{\"color\":\"#E5ECF6\",\"width\":0.5},\"pattern\":{\"fillmode\":\"overlay\",\"size\":10,\"solidity\":0.2}},\"type\":\"bar\"}],\"scattergeo\":[{\"type\":\"scattergeo\",\"marker\":{\"colorbar\":{\"outlinewidth\":0,\"ticks\":\"\"}}}],\"scatterpolar\":[{\"type\":\"scatterpolar\",\"marker\":{\"colorbar\":{\"outlinewidth\":0,\"ticks\":\"\"}}}],\"histogram\":[{\"marker\":{\"pattern\":{\"fillmode\":\"overlay\",\"size\":10,\"solidity\":0.2}},\"type\":\"histogram\"}],\"scattergl\":[{\"type\":\"scattergl\",\"marker\":{\"colorbar\":{\"outlinewidth\":0,\"ticks\":\"\"}}}],\"scatter3d\":[{\"type\":\"scatter3d\",\"line\":{\"colorbar\":{\"outlinewidth\":0,\"ticks\":\"\"}},\"marker\":{\"colorbar\":{\"outlinewidth\":0,\"ticks\":\"\"}}}],\"scattermapbox\":[{\"type\":\"scattermapbox\",\"marker\":{\"colorbar\":{\"outlinewidth\":0,\"ticks\":\"\"}}}],\"scatterternary\":[{\"type\":\"scatterternary\",\"marker\":{\"colorbar\":{\"outlinewidth\":0,\"ticks\":\"\"}}}],\"scattercarpet\":[{\"type\":\"scattercarpet\",\"marker\":{\"colorbar\":{\"outlinewidth\":0,\"ticks\":\"\"}}}],\"carpet\":[{\"aaxis\":{\"endlinecolor\":\"#2a3f5f\",\"gridcolor\":\"white\",\"linecolor\":\"white\",\"minorgridcolor\":\"white\",\"startlinecolor\":\"#2a3f5f\"},\"baxis\":{\"endlinecolor\":\"#2a3f5f\",\"gridcolor\":\"white\",\"linecolor\":\"white\",\"minorgridcolor\":\"white\",\"startlinecolor\":\"#2a3f5f\"},\"type\":\"carpet\"}],\"table\":[{\"cells\":{\"fill\":{\"color\":\"#EBF0F8\"},\"line\":{\"color\":\"white\"}},\"header\":{\"fill\":{\"color\":\"#C8D4E3\"},\"line\":{\"color\":\"white\"}},\"type\":\"table\"}],\"barpolar\":[{\"marker\":{\"line\":{\"color\":\"#E5ECF6\",\"width\":0.5},\"pattern\":{\"fillmode\":\"overlay\",\"size\":10,\"solidity\":0.2}},\"type\":\"barpolar\"}],\"pie\":[{\"automargin\":true,\"type\":\"pie\"}]},\"layout\":{\"autotypenumbers\":\"strict\",\"colorway\":[\"#636efa\",\"#EF553B\",\"#00cc96\",\"#ab63fa\",\"#FFA15A\",\"#19d3f3\",\"#FF6692\",\"#B6E880\",\"#FF97FF\",\"#FECB52\"],\"font\":{\"color\":\"#2a3f5f\"},\"hovermode\":\"closest\",\"hoverlabel\":{\"align\":\"left\"},\"paper_bgcolor\":\"white\",\"plot_bgcolor\":\"#E5ECF6\",\"polar\":{\"bgcolor\":\"#E5ECF6\",\"angularaxis\":{\"gridcolor\":\"white\",\"linecolor\":\"white\",\"ticks\":\"\"},\"radialaxis\":{\"gridcolor\":\"white\",\"linecolor\":\"white\",\"ticks\":\"\"}},\"ternary\":{\"bgcolor\":\"#E5ECF6\",\"aaxis\":{\"gridcolor\":\"white\",\"linecolor\":\"white\",\"ticks\":\"\"},\"baxis\":{\"gridcolor\":\"white\",\"linecolor\":\"white\",\"ticks\":\"\"},\"caxis\":{\"gridcolor\":\"white\",\"linecolor\":\"white\",\"ticks\":\"\"}},\"coloraxis\":{\"colorbar\":{\"outlinewidth\":0,\"ticks\":\"\"}},\"colorscale\":{\"sequential\":[[0.0,\"#0d0887\"],[0.1111111111111111,\"#46039f\"],[0.2222222222222222,\"#7201a8\"],[0.3333333333333333,\"#9c179e\"],[0.4444444444444444,\"#bd3786\"],[0.5555555555555556,\"#d8576b\"],[0.6666666666666666,\"#ed7953\"],[0.7777777777777778,\"#fb9f3a\"],[0.8888888888888888,\"#fdca26\"],[1.0,\"#f0f921\"]],\"sequentialminus\":[[0.0,\"#0d0887\"],[0.1111111111111111,\"#46039f\"],[0.2222222222222222,\"#7201a8\"],[0.3333333333333333,\"#9c179e\"],[0.4444444444444444,\"#bd3786\"],[0.5555555555555556,\"#d8576b\"],[0.6666666666666666,\"#ed7953\"],[0.7777777777777778,\"#fb9f3a\"],[0.8888888888888888,\"#fdca26\"],[1.0,\"#f0f921\"]],\"diverging\":[[0,\"#8e0152\"],[0.1,\"#c51b7d\"],[0.2,\"#de77ae\"],[0.3,\"#f1b6da\"],[0.4,\"#fde0ef\"],[0.5,\"#f7f7f7\"],[0.6,\"#e6f5d0\"],[0.7,\"#b8e186\"],[0.8,\"#7fbc41\"],[0.9,\"#4d9221\"],[1,\"#276419\"]]},\"xaxis\":{\"gridcolor\":\"white\",\"linecolor\":\"white\",\"ticks\":\"\",\"title\":{\"standoff\":15},\"zerolinecolor\":\"white\",\"automargin\":true,\"zerolinewidth\":2},\"yaxis\":{\"gridcolor\":\"white\",\"linecolor\":\"white\",\"ticks\":\"\",\"title\":{\"standoff\":15},\"zerolinecolor\":\"white\",\"automargin\":true,\"zerolinewidth\":2},\"scene\":{\"xaxis\":{\"backgroundcolor\":\"#E5ECF6\",\"gridcolor\":\"white\",\"linecolor\":\"white\",\"showbackground\":true,\"ticks\":\"\",\"zerolinecolor\":\"white\",\"gridwidth\":2},\"yaxis\":{\"backgroundcolor\":\"#E5ECF6\",\"gridcolor\":\"white\",\"linecolor\":\"white\",\"showbackground\":true,\"ticks\":\"\",\"zerolinecolor\":\"white\",\"gridwidth\":2},\"zaxis\":{\"backgroundcolor\":\"#E5ECF6\",\"gridcolor\":\"white\",\"linecolor\":\"white\",\"showbackground\":true,\"ticks\":\"\",\"zerolinecolor\":\"white\",\"gridwidth\":2}},\"shapedefaults\":{\"line\":{\"color\":\"#2a3f5f\"}},\"annotationdefaults\":{\"arrowcolor\":\"#2a3f5f\",\"arrowhead\":0,\"arrowwidth\":1},\"geo\":{\"bgcolor\":\"white\",\"landcolor\":\"#E5ECF6\",\"subunitcolor\":\"white\",\"showland\":true,\"showlakes\":true,\"lakecolor\":\"white\"},\"title\":{\"x\":0.05},\"mapbox\":{\"style\":\"light\"}}},\"legend\":{\"tracegroupgap\":0},\"title\":{\"text\":\"Male and female Vaccination\"}},                        {\"responsive\": true}                    ).then(function(){\n",
       "                            \n",
       "var gd = document.getElementById('312b99a4-8451-452b-83c0-8d10ed92e977');\n",
       "var x = new MutationObserver(function (mutations, observer) {{\n",
       "        var display = window.getComputedStyle(gd).display;\n",
       "        if (!display || display === 'none') {{\n",
       "            console.log([gd, 'removed!']);\n",
       "            Plotly.purge(gd);\n",
       "            observer.disconnect();\n",
       "        }}\n",
       "}});\n",
       "\n",
       "// Listen for the removal of the full notebook cells\n",
       "var notebookContainer = gd.closest('#notebook-container');\n",
       "if (notebookContainer) {{\n",
       "    x.observe(notebookContainer, {childList: true});\n",
       "}}\n",
       "\n",
       "// Listen for the clearing of the current output cell\n",
       "var outputEl = gd.closest('.output');\n",
       "if (outputEl) {{\n",
       "    x.observe(outputEl, {childList: true});\n",
       "}}\n",
       "\n",
       "                        })                };                });            </script>        </div>"
      ]
     },
     "metadata": {},
     "output_type": "display_data"
    }
   ],
   "source": [
    "#Male vs Female vaccination\n",
    "male=vaccination[\"Male(Individuals Vaccinated)\"].sum()\n",
    "female=vaccination[\"Female(Individuals Vaccinated)\"].sum()\n",
    "px.pie(names=[\"Male\",\"Female\"],values=[male,female],title=\"Male and female Vaccination\")"
   ]
  },
  {
   "cell_type": "code",
   "execution_count": 92,
   "id": "af2a1cf6",
   "metadata": {},
   "outputs": [
    {
     "data": {
      "text/html": [
       "<div>\n",
       "<style scoped>\n",
       "    .dataframe tbody tr th:only-of-type {\n",
       "        vertical-align: middle;\n",
       "    }\n",
       "\n",
       "    .dataframe tbody tr th {\n",
       "        vertical-align: top;\n",
       "    }\n",
       "\n",
       "    .dataframe thead th {\n",
       "        text-align: right;\n",
       "    }\n",
       "</style>\n",
       "<table border=\"1\" class=\"dataframe\">\n",
       "  <thead>\n",
       "    <tr style=\"text-align: right;\">\n",
       "      <th></th>\n",
       "      <th>Vaccine_Date</th>\n",
       "      <th>State</th>\n",
       "      <th>Total Doses Administered</th>\n",
       "      <th>Sessions</th>\n",
       "      <th>Sites</th>\n",
       "      <th>First Dose Administered</th>\n",
       "      <th>Second Dose Administered</th>\n",
       "      <th>Male (Doses Administered)</th>\n",
       "      <th>Female (Doses Administered)</th>\n",
       "      <th>Transgender (Doses Administered)</th>\n",
       "      <th>...</th>\n",
       "      <th>18-44 Years (Doses Administered)</th>\n",
       "      <th>45-60 Years (Doses Administered)</th>\n",
       "      <th>60+ Years (Doses Administered)</th>\n",
       "      <th>18-44 Years(Individuals Vaccinated)</th>\n",
       "      <th>45-60 Years(Individuals Vaccinated)</th>\n",
       "      <th>60+ Years(Individuals Vaccinated)</th>\n",
       "      <th>Male(Individuals Vaccinated)</th>\n",
       "      <th>Female(Individuals Vaccinated)</th>\n",
       "      <th>Transgender(Individuals Vaccinated)</th>\n",
       "      <th>Total Individuals Vaccinated</th>\n",
       "    </tr>\n",
       "  </thead>\n",
       "  <tbody>\n",
       "    <tr>\n",
       "      <th>212</th>\n",
       "      <td>16/01/2021</td>\n",
       "      <td>Andaman and Nicobar Islands</td>\n",
       "      <td>23.0</td>\n",
       "      <td>2.0</td>\n",
       "      <td>2.0</td>\n",
       "      <td>23.0</td>\n",
       "      <td>0.0</td>\n",
       "      <td>12.0</td>\n",
       "      <td>11.0</td>\n",
       "      <td>0.0</td>\n",
       "      <td>...</td>\n",
       "      <td>NaN</td>\n",
       "      <td>NaN</td>\n",
       "      <td>NaN</td>\n",
       "      <td>NaN</td>\n",
       "      <td>NaN</td>\n",
       "      <td>NaN</td>\n",
       "      <td>NaN</td>\n",
       "      <td>NaN</td>\n",
       "      <td>NaN</td>\n",
       "      <td>23.0</td>\n",
       "    </tr>\n",
       "    <tr>\n",
       "      <th>213</th>\n",
       "      <td>17/01/2021</td>\n",
       "      <td>Andaman and Nicobar Islands</td>\n",
       "      <td>23.0</td>\n",
       "      <td>2.0</td>\n",
       "      <td>2.0</td>\n",
       "      <td>23.0</td>\n",
       "      <td>0.0</td>\n",
       "      <td>12.0</td>\n",
       "      <td>11.0</td>\n",
       "      <td>0.0</td>\n",
       "      <td>...</td>\n",
       "      <td>NaN</td>\n",
       "      <td>NaN</td>\n",
       "      <td>NaN</td>\n",
       "      <td>NaN</td>\n",
       "      <td>NaN</td>\n",
       "      <td>NaN</td>\n",
       "      <td>NaN</td>\n",
       "      <td>NaN</td>\n",
       "      <td>NaN</td>\n",
       "      <td>23.0</td>\n",
       "    </tr>\n",
       "    <tr>\n",
       "      <th>214</th>\n",
       "      <td>18/01/2021</td>\n",
       "      <td>Andaman and Nicobar Islands</td>\n",
       "      <td>42.0</td>\n",
       "      <td>9.0</td>\n",
       "      <td>2.0</td>\n",
       "      <td>42.0</td>\n",
       "      <td>0.0</td>\n",
       "      <td>29.0</td>\n",
       "      <td>13.0</td>\n",
       "      <td>0.0</td>\n",
       "      <td>...</td>\n",
       "      <td>NaN</td>\n",
       "      <td>NaN</td>\n",
       "      <td>NaN</td>\n",
       "      <td>NaN</td>\n",
       "      <td>NaN</td>\n",
       "      <td>NaN</td>\n",
       "      <td>NaN</td>\n",
       "      <td>NaN</td>\n",
       "      <td>NaN</td>\n",
       "      <td>42.0</td>\n",
       "    </tr>\n",
       "    <tr>\n",
       "      <th>215</th>\n",
       "      <td>19/01/2021</td>\n",
       "      <td>Andaman and Nicobar Islands</td>\n",
       "      <td>89.0</td>\n",
       "      <td>12.0</td>\n",
       "      <td>2.0</td>\n",
       "      <td>89.0</td>\n",
       "      <td>0.0</td>\n",
       "      <td>53.0</td>\n",
       "      <td>36.0</td>\n",
       "      <td>0.0</td>\n",
       "      <td>...</td>\n",
       "      <td>NaN</td>\n",
       "      <td>NaN</td>\n",
       "      <td>NaN</td>\n",
       "      <td>NaN</td>\n",
       "      <td>NaN</td>\n",
       "      <td>NaN</td>\n",
       "      <td>NaN</td>\n",
       "      <td>NaN</td>\n",
       "      <td>NaN</td>\n",
       "      <td>89.0</td>\n",
       "    </tr>\n",
       "    <tr>\n",
       "      <th>216</th>\n",
       "      <td>20/01/2021</td>\n",
       "      <td>Andaman and Nicobar Islands</td>\n",
       "      <td>124.0</td>\n",
       "      <td>16.0</td>\n",
       "      <td>3.0</td>\n",
       "      <td>124.0</td>\n",
       "      <td>0.0</td>\n",
       "      <td>67.0</td>\n",
       "      <td>57.0</td>\n",
       "      <td>0.0</td>\n",
       "      <td>...</td>\n",
       "      <td>NaN</td>\n",
       "      <td>NaN</td>\n",
       "      <td>NaN</td>\n",
       "      <td>NaN</td>\n",
       "      <td>NaN</td>\n",
       "      <td>NaN</td>\n",
       "      <td>NaN</td>\n",
       "      <td>NaN</td>\n",
       "      <td>NaN</td>\n",
       "      <td>124.0</td>\n",
       "    </tr>\n",
       "  </tbody>\n",
       "</table>\n",
       "<p>5 rows × 24 columns</p>\n",
       "</div>"
      ],
      "text/plain": [
       "    Vaccine_Date                        State  Total Doses Administered  \\\n",
       "212   16/01/2021  Andaman and Nicobar Islands                      23.0   \n",
       "213   17/01/2021  Andaman and Nicobar Islands                      23.0   \n",
       "214   18/01/2021  Andaman and Nicobar Islands                      42.0   \n",
       "215   19/01/2021  Andaman and Nicobar Islands                      89.0   \n",
       "216   20/01/2021  Andaman and Nicobar Islands                     124.0   \n",
       "\n",
       "     Sessions   Sites   First Dose Administered  Second Dose Administered  \\\n",
       "212       2.0      2.0                     23.0                       0.0   \n",
       "213       2.0      2.0                     23.0                       0.0   \n",
       "214       9.0      2.0                     42.0                       0.0   \n",
       "215      12.0      2.0                     89.0                       0.0   \n",
       "216      16.0      3.0                    124.0                       0.0   \n",
       "\n",
       "     Male (Doses Administered)  Female (Doses Administered)  \\\n",
       "212                       12.0                         11.0   \n",
       "213                       12.0                         11.0   \n",
       "214                       29.0                         13.0   \n",
       "215                       53.0                         36.0   \n",
       "216                       67.0                         57.0   \n",
       "\n",
       "     Transgender (Doses Administered)  ...  18-44 Years (Doses Administered)  \\\n",
       "212                               0.0  ...                               NaN   \n",
       "213                               0.0  ...                               NaN   \n",
       "214                               0.0  ...                               NaN   \n",
       "215                               0.0  ...                               NaN   \n",
       "216                               0.0  ...                               NaN   \n",
       "\n",
       "     45-60 Years (Doses Administered)  60+ Years (Doses Administered)  \\\n",
       "212                               NaN                             NaN   \n",
       "213                               NaN                             NaN   \n",
       "214                               NaN                             NaN   \n",
       "215                               NaN                             NaN   \n",
       "216                               NaN                             NaN   \n",
       "\n",
       "     18-44 Years(Individuals Vaccinated)  45-60 Years(Individuals Vaccinated)  \\\n",
       "212                                  NaN                                  NaN   \n",
       "213                                  NaN                                  NaN   \n",
       "214                                  NaN                                  NaN   \n",
       "215                                  NaN                                  NaN   \n",
       "216                                  NaN                                  NaN   \n",
       "\n",
       "     60+ Years(Individuals Vaccinated)  Male(Individuals Vaccinated)  \\\n",
       "212                                NaN                           NaN   \n",
       "213                                NaN                           NaN   \n",
       "214                                NaN                           NaN   \n",
       "215                                NaN                           NaN   \n",
       "216                                NaN                           NaN   \n",
       "\n",
       "     Female(Individuals Vaccinated)  Transgender(Individuals Vaccinated)  \\\n",
       "212                             NaN                                  NaN   \n",
       "213                             NaN                                  NaN   \n",
       "214                             NaN                                  NaN   \n",
       "215                             NaN                                  NaN   \n",
       "216                             NaN                                  NaN   \n",
       "\n",
       "     Total Individuals Vaccinated  \n",
       "212                          23.0  \n",
       "213                          23.0  \n",
       "214                          42.0  \n",
       "215                          89.0  \n",
       "216                         124.0  \n",
       "\n",
       "[5 rows x 24 columns]"
      ]
     },
     "execution_count": 92,
     "metadata": {},
     "output_type": "execute_result"
    }
   ],
   "source": [
    "#remove rows where state=India\n",
    "vaccine=vaccine_df[vaccine_df.State!=\"India\"]\n",
    "vaccine.head()"
   ]
  },
  {
   "cell_type": "code",
   "execution_count": 60,
   "id": "c7f01c76",
   "metadata": {},
   "outputs": [
    {
     "name": "stderr",
     "output_type": "stream",
     "text": [
      "C:\\Users\\TUSHAR SAIN\\AppData\\Local\\Temp\\ipykernel_1448\\1825276777.py:1: SettingWithCopyWarning:\n",
      "\n",
      "\n",
      "A value is trying to be set on a copy of a slice from a DataFrame\n",
      "\n",
      "See the caveats in the documentation: https://pandas.pydata.org/pandas-docs/stable/user_guide/indexing.html#returning-a-view-versus-a-copy\n",
      "\n"
     ]
    }
   ],
   "source": [
    "vaccine.rename(columns={\"Total Individuals Vaccinated\":\"Total\"},inplace=True)"
   ]
  },
  {
   "cell_type": "code",
   "execution_count": 90,
   "id": "39cb0f95",
   "metadata": {},
   "outputs": [
    {
     "data": {
      "text/html": [
       "<div>\n",
       "<style scoped>\n",
       "    .dataframe tbody tr th:only-of-type {\n",
       "        vertical-align: middle;\n",
       "    }\n",
       "\n",
       "    .dataframe tbody tr th {\n",
       "        vertical-align: top;\n",
       "    }\n",
       "\n",
       "    .dataframe thead th {\n",
       "        text-align: right;\n",
       "    }\n",
       "</style>\n",
       "<table border=\"1\" class=\"dataframe\">\n",
       "  <thead>\n",
       "    <tr style=\"text-align: right;\">\n",
       "      <th></th>\n",
       "      <th>Total</th>\n",
       "    </tr>\n",
       "    <tr>\n",
       "      <th>State</th>\n",
       "      <th></th>\n",
       "    </tr>\n",
       "  </thead>\n",
       "  <tbody>\n",
       "    <tr>\n",
       "      <th>Maharashtra</th>\n",
       "      <td>1.403075e+09</td>\n",
       "    </tr>\n",
       "    <tr>\n",
       "      <th>Uttar Pradesh</th>\n",
       "      <td>1.200575e+09</td>\n",
       "    </tr>\n",
       "    <tr>\n",
       "      <th>Rajasthan</th>\n",
       "      <td>1.141163e+09</td>\n",
       "    </tr>\n",
       "    <tr>\n",
       "      <th>Gujarat</th>\n",
       "      <td>1.078261e+09</td>\n",
       "    </tr>\n",
       "    <tr>\n",
       "      <th>West Bengal</th>\n",
       "      <td>9.250227e+08</td>\n",
       "    </tr>\n",
       "  </tbody>\n",
       "</table>\n",
       "</div>"
      ],
      "text/plain": [
       "                      Total\n",
       "State                      \n",
       "Maharashtra    1.403075e+09\n",
       "Uttar Pradesh  1.200575e+09\n",
       "Rajasthan      1.141163e+09\n",
       "Gujarat        1.078261e+09\n",
       "West Bengal    9.250227e+08"
      ]
     },
     "execution_count": 90,
     "metadata": {},
     "output_type": "execute_result"
    }
   ],
   "source": [
    "#most vaccinated State\n",
    "vaccine[\"Total\"]\n",
    "max_vaccination=vaccine.groupby(\"State\")[\"Total\"].sum().to_frame(\"Total\")\n",
    "max_vaccination=max_vaccination.sort_values(by=\"Total\",ascending=False)[:5]\n",
    "max_vaccination"
   ]
  },
  {
   "cell_type": "code",
   "execution_count": 91,
   "id": "d53238a2",
   "metadata": {},
   "outputs": [
    {
     "data": {
      "text/plain": [
       "Text(0.5, 1.0, 'Top 5 Vaccinated State')"
      ]
     },
     "execution_count": 91,
     "metadata": {},
     "output_type": "execute_result"
    },
    {
     "data": {
      "image/png": "[encoded data removed]",
      "text/plain": [
       "<Figure size 1500x500 with 1 Axes>"
      ]
     },
     "metadata": {},
     "output_type": "display_data"
    }
   ],
   "source": [
    "#top 5 vaccinated state\n",
    "plt.figure(figsize=(15,5))\n",
    "ax=sns.barplot(x=max_vaccination.index,y=max_vaccination[\"Total\"])\n",
    "ax.set_title(\"Top 5 Vaccinated State\",size=16)"
   ]
  },
  {
   "cell_type": "code",
   "execution_count": null,
   "id": "8ef4aec4",
   "metadata": {},
   "outputs": [],
   "source": []
  }
 ],
 "metadata": {
  "kernelspec": {
   "display_name": "Python 3 (ipykernel)",
   "language": "python",
   "name": "python3"
  },
  "language_info": {
   "codemirror_mode": {
    "name": "ipython",
    "version": 3
   },
   "file_extension": ".py",
   "mimetype": "text/x-python",
   "name": "python",
   "nbconvert_exporter": "python",
   "pygments_lexer": "ipython3",
   "version": "3.11.5"
  }
 },
 "nbformat": 4,
 "nbformat_minor": 5
}
